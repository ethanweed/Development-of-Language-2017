{
 "cells": [
  {
   "cell_type": "code",
   "execution_count": 1,
   "metadata": {
    "collapsed": true
   },
   "outputs": [],
   "source": [
    "%matplotlib inline\n",
    "\n",
    "# libraries from the Python standard library\n",
    "import os\n",
    "\n",
    "# libraries for scientific computing and statistics\n",
    "import pandas as pd\n",
    "from scipy.stats.stats import pearsonr\n",
    "import seaborn as sb\n",
    "sb.set(color_codes=True)\n",
    "\n",
    "# libraries for linguistic research\n",
    "import pylangacq as pla\n",
    "\n"
   ]
  },
  {
   "cell_type": "code",
   "execution_count": 2,
   "metadata": {
    "collapsed": true
   },
   "outputs": [],
   "source": [
    "pathin = '/Users/ethan/Documents/Scripts/Teaching/Development-of-Language/DoL_2017/Plunkett/'\n",
    "os.chdir(pathin)\n",
    "\n",
    "anne = pla.read_chat('Anne/*.cha')\n",
    "jens = pla.read_chat('Jens/*.cha')"
   ]
  },
  {
   "cell_type": "code",
   "execution_count": null,
   "metadata": {
    "collapsed": true
   },
   "outputs": [],
   "source": []
  }
 ],
 "metadata": {
  "kernelspec": {
   "display_name": "Python [swc]",
   "language": "python",
   "name": "Python [swc]"
  },
  "language_info": {
   "codemirror_mode": {
    "name": "ipython",
    "version": 3
   },
   "file_extension": ".py",
   "mimetype": "text/x-python",
   "name": "python",
   "nbconvert_exporter": "python",
   "pygments_lexer": "ipython3",
   "version": "3.5.2"
  }
 },
 "nbformat": 4,
 "nbformat_minor": 0
}
