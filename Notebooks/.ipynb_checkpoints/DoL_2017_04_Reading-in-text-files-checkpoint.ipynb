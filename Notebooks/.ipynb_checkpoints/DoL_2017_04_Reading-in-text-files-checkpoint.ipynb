{
 "cells": [
  {
   "cell_type": "markdown",
   "metadata": {},
   "source": [
    "# Reading in text files\n",
    "\n",
    "So far we have either typed or copy/pasted text into our scripts to analyze. This is good for learning the basics, but in real life, we would like to be able to read text directly into our scripts from text files stored on our computer. That is what we will learn in this lesson."
   ]
  },
  {
   "cell_type": "markdown",
   "metadata": {},
   "source": [
    "## Paths\n",
    "\n",
    "To start with, we have to know where our files are on the computer. Every location has an address, and we need to give Python this address if we want it to find files we have stored. This address is called a path. Depending on the operating system of your computer, paths may look slightly different, but the overall format is the same. On my computer, if I save a text file called \"my_document\" on the desktop, it will have the path \"/Users/ethan/Desktop/my_document.txt\" Save a text file on your desktop, and figure out what the path to that document is. Write something in the text file, and make sure it is saved."
   ]
  },
  {
   "cell_type": "markdown",
   "metadata": {
    "collapsed": true
   },
   "source": [
    "### Path navigation in Python\n",
    "\n",
    "We can also navigate the file system using python. Like so many things in Python, there is a module for that which we can import! It's called \"os\", and one of the things it can do is to change the active directory we are in: that is, we can move from one place to another on the computer. You already know the path to your new text file. In my case, it is: \"/Users/ethan/Desktop/\", so if I want to access that file from Python I type the following to move to the Desktop directory:\n",
    "\n",
    "    import os\n",
    "    os.chdir('/Users/ethan/Desktop/')\n",
    "\n",
    "Now I can do things with this file, like read the data in it, or write new data to it."
   ]
  },
  {
   "cell_type": "markdown",
   "metadata": {},
   "source": [
    "### Making life easier on ourselves\n",
    "\n",
    "We might want to use the path to our file again later, and it would be nice to not have to type it in all the time. Also, my path will look different than your path, and if I type the whole path in like I did above, and share my code with you, you will have to go through and change the path everywhere it occurs in the script, so that the code works on your computer as well. A handy shortcut to avoid some of these problems is to save the path as a variable. Why not? It's just a string anyway, right?"
   ]
  },
  {
   "cell_type": "code",
   "execution_count": 17,
   "metadata": {
    "collapsed": false
   },
   "outputs": [],
   "source": [
    "import os\n",
    "\n",
    "mypath = '/Users/ethan/Desktop/'\n",
    "\n",
    "os.chdir(mypath)\n"
   ]
  },
  {
   "cell_type": "markdown",
   "metadata": {},
   "source": [
    "# Reading the document\n",
    "\n",
    "Ok, now that we are in the right directory, let's see what is in our text file. In mine, I wrote \"Hi there! How's it going?\"."
   ]
  },
  {
   "cell_type": "code",
   "execution_count": 21,
   "metadata": {
    "collapsed": false
   },
   "outputs": [
    {
     "name": "stdout",
     "output_type": "stream",
     "text": [
      "Hi there. How's it going?\n"
     ]
    }
   ],
   "source": [
    "\n",
    "with open('my_document.txt','r') as f:\n",
    "    text = f.read()\n",
    "    print(text)\n"
   ]
  },
  {
   "cell_type": "markdown",
   "metadata": {},
   "source": [
    "# Inspect the code\n",
    "\n",
    "What does our code do?\n",
    "The first line:\n",
    "\n",
    "    with open('my_document.txt','r') as f:\n",
    "\n",
    "makes the contents of the text file available to python. It also calls the file \"f\". So files can also be a kind of variable! As long as this file is in Python's memory, we can just call it \"f\", and Python will know that we are talking about this file. But as soon as we call something else \"f\", then Python will forget about this file. We'll see how we can use that later.\n",
    "\n",
    "\n",
    "The next line:\n",
    "\n",
    "    text = f.read()\n",
    "    \n",
    "says: \"read everything in the file, and put it in the variable \"text\".\n",
    "\n",
    "And the last line you already know.\n",
    "\n",
    "    print(text)\n",
    "\n",
    "just shows us the contents of \"text\", which is in turn the contents of \"my_document.txt\". Easy, right?\n",
    "\n",
    "Notice the indentation starting on the second line. This is important. Python cares about this, and will yell at you if you get it wrong. Also, don't forget the colon at the end of the \"with\" line. Python cares about that too! Luckily, Jupyter notebooks are smart enought to add the indentation for you, most of the time.\n",
    "\n",
    "While we're at it, why don't we just make the filename a variable, too? Put it all together, and we get:"
   ]
  },
  {
   "cell_type": "code",
   "execution_count": 23,
   "metadata": {
    "collapsed": false
   },
   "outputs": [
    {
     "name": "stdout",
     "output_type": "stream",
     "text": [
      "Hi there. How's it going?\n"
     ]
    }
   ],
   "source": [
    "import os\n",
    "\n",
    "mypath = '/Users/ethan/Desktop/'\n",
    "myfile = 'my_document.txt'\n",
    "\n",
    "os.chdir(mypath)\n",
    "\n",
    "with open(myfile,'r') as f:\n",
    "    text = f.read()\n",
    "    print(text)\n",
    "\n"
   ]
  },
  {
   "cell_type": "markdown",
   "metadata": {},
   "source": [
    "# Doing things with files we read in\n",
    "\n",
    "You already know how to calculate type-to-token ratios (TTR). Let's combine this with what we just learned, and calculate TTR on a document we read in. You can find a plain text version of Jane Austen's *Pride and Predjudice* [here] []. Copy and paste this text into a new text file, and save it on your computer. To keep it simple, I will save it on the desktop, but of course you can put it wherever you want: you know how to os.chdir to wherever your data are!\n",
    "\n",
    "I should point out that there are modules you can use to download things, including *Pride and Predjudice* directly to Python without first copy/pasting into a text file - but we're keeping it simple here.\n",
    "\n",
    "There are parts of this text which are not from the original novel. Open your *Pride and Predjudice* text file and delete the top section with Project Gutenberg info, and the legal section at the bottom of the document. Of course, we could also use Python to do this, but let's not get ahead of ourselves!\n",
    "\n",
    "Now that you have a relatively clean copy of *Pride and Predjudice* saved in a text file on your computer, it should be a piece of cake to read it in, and calculate TTR. See if you can do this!\n",
    "\n",
    "[here]: https://www.gutenberg.org/files/1342/1342-0.txt"
   ]
  },
  {
   "cell_type": "code",
   "execution_count": null,
   "metadata": {
    "collapsed": true
   },
   "outputs": [],
   "source": []
  }
 ],
 "metadata": {
  "anaconda-cloud": {},
  "kernelspec": {
   "display_name": "Python [conda root]",
   "language": "python",
   "name": "conda-root-py"
  },
  "language_info": {
   "codemirror_mode": {
    "name": "ipython",
    "version": 3
   },
   "file_extension": ".py",
   "mimetype": "text/x-python",
   "name": "python",
   "nbconvert_exporter": "python",
   "pygments_lexer": "ipython3",
   "version": "3.5.2"
  }
 },
 "nbformat": 4,
 "nbformat_minor": 1
}
