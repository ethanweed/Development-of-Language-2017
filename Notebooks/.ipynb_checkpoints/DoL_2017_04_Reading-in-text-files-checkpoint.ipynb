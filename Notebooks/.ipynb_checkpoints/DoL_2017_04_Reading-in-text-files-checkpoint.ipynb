{
 "cells": [
  {
   "cell_type": "markdown",
   "metadata": {},
   "source": [
    "# Reading in text files\n",
    "\n",
    "So far we have either typed or copy/pasted text into our scripts to analyze. This is good for learning the basics, but in real life, we would like to be able to read text directly into our scripts from text-files stored on our computer. That is what we will learn in this lesson."
   ]
  },
  {
   "cell_type": "markdown",
   "metadata": {},
   "source": [
    "## Paths\n",
    "\n",
    "To start with, we have to know where things are on the computer. Every location has an address, and we need to give Python this address if we want it to find files we have stored. Depending on the operating system of your computer, paths may look slightly different, but the overall format is the same. On my computer, if I save a text-file called \"my_document\" on the desktop, it will have the path \"/Users/ethan/Desktop/my_document.txt\" Save a text-file on your desktop, and figure out what the path to that document is."
   ]
  },
  {
   "cell_type": "code",
   "execution_count": null,
   "metadata": {
    "collapsed": true
   },
   "outputs": [],
   "source": []
  }
 ],
 "metadata": {
  "anaconda-cloud": {},
  "kernelspec": {
   "display_name": "Python [conda root]",
   "language": "python",
   "name": "conda-root-py"
  },
  "language_info": {
   "codemirror_mode": {
    "name": "ipython",
    "version": 3
   },
   "file_extension": ".py",
   "mimetype": "text/x-python",
   "name": "python",
   "nbconvert_exporter": "python",
   "pygments_lexer": "ipython3",
   "version": "3.5.2"
  }
 },
 "nbformat": 4,
 "nbformat_minor": 1
}
