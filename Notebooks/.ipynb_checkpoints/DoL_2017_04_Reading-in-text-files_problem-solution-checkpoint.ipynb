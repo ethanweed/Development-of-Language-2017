{
 "cells": [
  {
   "cell_type": "markdown",
   "metadata": {},
   "source": [
    "# From the last notebook: TTR on a text file\n",
    "\n",
    "In notebook 4, I asked you to figure out how read in a text file with Jane Austen's novel *Pride and Predjudice*, and calculate TTR. Your solution may have looked something like this:"
   ]
  },
  {
   "cell_type": "code",
   "execution_count": 32,
   "metadata": {
    "collapsed": false
   },
   "outputs": [
    {
     "name": "stdout",
     "output_type": "stream",
     "text": [
      "The number of types is: 7818\n",
      "The number of tokens is: 121533\n",
      "The type-to-token ratio is: 0.0643282071536126\n"
     ]
    }
   ],
   "source": [
    "import os\n",
    "import string\n",
    "\n",
    "mypath = '/Users/ethan/Desktop/'\n",
    "myfile = 'Jane-Austen-Pride-and-Prejudice.txt'\n",
    "\n",
    "os.chdir(mypath)\n",
    "\n",
    "with open(myfile,'r') as f:\n",
    "    text = f.read()\n",
    "    text = text.lower()\n",
    "    a = set(text)    \n",
    "    punct = set(string.punctuation)\n",
    "    text = ''.join(x for x in text if x not in punct)\n",
    "    text = text.split()\n",
    "    tokens = len(text)\n",
    "    types = len(set(text))\n",
    "    TTR = types/tokens\n",
    "\n",
    "    print('The number of types is: ' + str(types))\n",
    "    print('The number of tokens is: ' + str(tokens))\n",
    "    print('The type-to-token ratio is: ' + str(TTR))\n"
   ]
  },
  {
   "cell_type": "code",
   "execution_count": 30,
   "metadata": {
    "collapsed": false
   },
   "outputs": [
    {
     "name": "stdout",
     "output_type": "stream",
     "text": [
      "['pride', 'and', 'prejudice', 'by', 'jane', 'austen', 'chapter', '1', 'it', 'is', 'a', 'truth', 'universally', 'acknowledged', 'that', 'a', 'single', 'man', 'in', 'possession', 'of', 'a', 'good', 'fortune', 'must', 'be', 'in', 'want', 'of', 'a', 'wife', 'however', 'little', 'known', 'the', 'feelings', 'or', 'views', 'of', 'such', 'a', 'man', 'may', 'be', 'on', 'his', 'first', 'entering', 'a', 'neighbourhood', 'this', 'truth', 'is', 'so', 'well', 'fixed', 'in', 'the', 'minds', 'of', 'the', 'surrounding', 'families', 'that', 'he', 'is', 'considered', 'the', 'rightful', 'property', 'of', 'some', 'one', 'or', 'other', 'of', 'their', 'daughters', '“my', 'dear', 'mr', 'bennet”', 'said', 'his', 'lady', 'to', 'him', 'one', 'day', '“have', 'you', 'heard', 'that', 'netherfield', 'park', 'is', 'let', 'at', 'last”', 'mr']\n"
     ]
    }
   ],
   "source": [
    "print(text[:100])"
   ]
  },
  {
   "cell_type": "markdown",
   "metadata": {},
   "source": [
    "## Reuse code\n",
    "See? You can reuse code from Notebook 3 here. You already figured out how to calculate TTR - that's a solved problem. No need to figure it all out again - just copy/paste old code into new scripts, and adjust as needed. That's how programming works. Actually, if you have code that you really use a lot, you might want to write your own module: this is an even smarter way to reuse old code. But that will have to wait a bit."
   ]
  },
  {
   "cell_type": "markdown",
   "metadata": {},
   "source": [
    "## Quiz\n",
    "\n",
    "1. Do you see any potential problems when you inspect the first 100 items in \"text\", above?\n",
    "1. Can you think of any way to solve these problems? Even if we haven't learned how to program solutions to these problems yet, what steps would you put in your program, if you knew the right commands? Be creative!"
   ]
  },
  {
   "cell_type": "code",
   "execution_count": null,
   "metadata": {
    "collapsed": true
   },
   "outputs": [],
   "source": []
  }
 ],
 "metadata": {
  "anaconda-cloud": {},
  "kernelspec": {
   "display_name": "Python [conda root]",
   "language": "python",
   "name": "conda-root-py"
  },
  "language_info": {
   "codemirror_mode": {
    "name": "ipython",
    "version": 3
   },
   "file_extension": ".py",
   "mimetype": "text/x-python",
   "name": "python",
   "nbconvert_exporter": "python",
   "pygments_lexer": "ipython3",
   "version": "3.5.2"
  }
 },
 "nbformat": 4,
 "nbformat_minor": 1
}
