{
 "cells": [
  {
   "cell_type": "code",
   "execution_count": 6,
   "metadata": {
    "collapsed": false
   },
   "outputs": [
    {
     "name": "stdout",
     "output_type": "stream",
     "text": [
      "2.166403785488959\n"
     ]
    }
   ],
   "source": [
    "from os import chdir as cd\n",
    "\n",
    "child = 'Adam'\n",
    "pathin = '/Users/ethan/Desktop/Brown/'+child\n",
    "pathout = '/Users/ethan/Desktop'\n",
    "\n",
    "cd(pathin)\n",
    "file = child + '01.cha'\n",
    "\n",
    "removelist = ['\\t', '\\r']\n",
    "\n",
    "with open(file,'r') as f:\n",
    "    text = f.read()\n",
    "    for item in removelist:\n",
    "        text = text.replace(item, '')\n",
    "    text = text.split('\\n')\n",
    "       \n",
    "    # make a list with only the POS lines from the transcript\n",
    "    utt = []\n",
    "    for s, val in enumerate(text):\n",
    "        if val.startswith('*CHI'):\n",
    "            m = str(text[s+1])\n",
    "            m = m[5:]\n",
    "            utt.append(m)\n",
    "            \n",
    "    morphs = []\n",
    "    mPL = []\n",
    "    mPOSS = []\n",
    "    mPAST = []\n",
    "    mPROG = []\n",
    "    mPERF = []\n",
    "    mTHIRDSING = []\n",
    "    mCOMP1 = []\n",
    "    mCOMP2 = []\n",
    "    mSUPER1 = []\n",
    "    mSUPER2 = []\n",
    "    mADVR1 = []\n",
    "    mADVR2 = []\n",
    "    mAGT = []\n",
    "    \n",
    "    for s in utt:\n",
    "        base = s.count('|')\n",
    "        PL = s.count('-PL')\n",
    "        POSS = s.count('POSS')\n",
    "        PAST = s.count('&PAST')\n",
    "        PROG = s.count('-PROG')\n",
    "        PERF = s.count('&PERF')\n",
    "        THIRDSING = s.count('&3S')\n",
    "        COMP1 = s.count('-CP')\n",
    "        COMP2 = s.count('&CP')\n",
    "        SUPER1 = s.count('-SP')\n",
    "        SUPER2 = s.count('&SP')\n",
    "        ADVR1 = s.count('-ADVR')\n",
    "        ADVR2 = s.count('LY')\n",
    "        AGT = s.count('-AGT')\n",
    "        \n",
    "\n",
    "        m = base + PL + POSS + PAST + PROG + PERF + THIRDSING + COMP1 + COMP2 + SUPER1 + SUPER2 + ADVR1 + ADVR2 + AGT\n",
    "        morphs.append(m)\n",
    "        mPL.append(PL)\n",
    "        mPOSS.append(POSS)\n",
    "        mPAST.append(PAST)\n",
    "        mPROG.append(PROG)\n",
    "        mPERF.append(PERF)\n",
    "        mTHIRDSING.append(THIRDSING)\n",
    "        mCOMP1.append(COMP1)\n",
    "        mCOMP2.append(COMP2)\n",
    "        mSUPER1.append(SUPER1)\n",
    "        mSUPER2.append(SUPER2)\n",
    "        mADVR1.append(ADVR1)\n",
    "        mADVR2.append(ADVR2)\n",
    "        mAGT.append(AGT)\n",
    "\n",
    "\n",
    "    \n",
    "av = sum(morphs)/len(morphs)\n",
    "print(av)"
   ]
  },
  {
   "cell_type": "code",
   "execution_count": 7,
   "metadata": {
    "collapsed": false
   },
   "outputs": [],
   "source": [
    "def MLU_CHI (file):\n",
    "    removelist = ['\\t', '\\r']\n",
    "\n",
    "    with open(file,'r') as f:\n",
    "        text = f.read()\n",
    "        for item in removelist:\n",
    "            text = text.replace(item, '')\n",
    "        text = text.split('\\n')\n",
    "\n",
    "        # make a list with only the POS lines from the transcript\n",
    "        utt = []\n",
    "        for s, val in enumerate(text):\n",
    "            if val.startswith('*CHI'):\n",
    "                m = str(text[s+1])\n",
    "                m = m[5:]\n",
    "                utt.append(m)\n",
    "\n",
    "        morphs = []\n",
    "        mPL = []\n",
    "        mPOSS = []\n",
    "        mPAST = []\n",
    "        mPROG = []\n",
    "        mPERF = []\n",
    "        mTHIRDSING = []\n",
    "        mCOMP1 = []\n",
    "        mCOMP2 = []\n",
    "        mSUPER1 = []\n",
    "        mSUPER2 = []\n",
    "        mADVR1 = []\n",
    "        mADVR2 = []\n",
    "        mAGT = []\n",
    "\n",
    "        for s in utt:\n",
    "            base = s.count('|')\n",
    "            PL = s.count('-PL')\n",
    "            POSS = s.count('POSS')\n",
    "            PAST = s.count('&PAST')\n",
    "            PROG = s.count('-PROG')\n",
    "            PERF = s.count('&PERF')\n",
    "            THIRDSING = s.count('&3S')\n",
    "            COMP1 = s.count('-CP')\n",
    "            COMP2 = s.count('&CP')\n",
    "            SUPER1 = s.count('-SP')\n",
    "            SUPER2 = s.count('&SP')\n",
    "            ADVR1 = s.count('-ADVR')\n",
    "            ADVR2 = s.count('LY')\n",
    "            AGT = s.count('-AGT')\n",
    "\n",
    "\n",
    "            m = base + PL + POSS + PAST + PROG + PERF + THIRDSING + COMP1 + COMP2 + SUPER1 + SUPER2 + ADVR1 + ADVR2 + AGT\n",
    "            morphs.append(m)\n",
    "            mPL.append(PL)\n",
    "            mPOSS.append(POSS)\n",
    "            mPAST.append(PAST)\n",
    "            mPROG.append(PROG)\n",
    "            mPERF.append(PERF)\n",
    "            mTHIRDSING.append(THIRDSING)\n",
    "            mCOMP1.append(COMP1)\n",
    "            mCOMP2.append(COMP2)\n",
    "            mSUPER1.append(SUPER1)\n",
    "            mSUPER2.append(SUPER2)\n",
    "            mADVR1.append(ADVR1)\n",
    "            mADVR2.append(ADVR2)\n",
    "            mAGT.append(AGT)\n",
    "\n",
    "    av = sum(morphs)/len(morphs)\n",
    "    return(av)"
   ]
  },
  {
   "cell_type": "code",
   "execution_count": 8,
   "metadata": {
    "collapsed": true
   },
   "outputs": [],
   "source": [
    "from os import chdir as cd\n",
    "\n",
    "child = 'Adam'\n",
    "pathin = '/Users/ethan/Desktop/Brown/'+child\n",
    "pathout = '/Users/ethan/Desktop'\n",
    "\n",
    "cd(pathin)\n",
    "file = child + '01.cha'"
   ]
  },
  {
   "cell_type": "code",
   "execution_count": 9,
   "metadata": {
    "collapsed": false
   },
   "outputs": [
    {
     "name": "stdout",
     "output_type": "stream",
     "text": [
      "2.166403785488959\n"
     ]
    }
   ],
   "source": [
    "data = MLU_CHI(file)\n",
    "print(data)"
   ]
  },
  {
   "cell_type": "code",
   "execution_count": 10,
   "metadata": {
    "collapsed": false
   },
   "outputs": [],
   "source": [
    "from os import chdir as cd\n",
    "child = 'Adam'\n",
    "pathin = '/Users/ethan/Desktop/Brown/'+child\n",
    "funcpath = '/Users/ethan/Documents/Scripts/Teaching/Development-of-Language/DoL_2017/Functions'\n",
    "\n",
    "cd(funcpath)\n",
    "import MLU\n",
    "\n",
    "cd(pathin)\n",
    "file = child + '01.cha'"
   ]
  },
  {
   "cell_type": "code",
   "execution_count": 11,
   "metadata": {
    "collapsed": false
   },
   "outputs": [
    {
     "name": "stdout",
     "output_type": "stream",
     "text": [
      "2.166403785488959\n",
      "4.486607142857143\n"
     ]
    }
   ],
   "source": [
    "c = MLU.CHI(file)\n",
    "m = MLU.MOT(file)\n",
    "print(c)\n",
    "print(m)"
   ]
  },
  {
   "cell_type": "raw",
   "metadata": {},
   "source": []
  },
  {
   "cell_type": "code",
   "execution_count": null,
   "metadata": {
    "collapsed": true
   },
   "outputs": [],
   "source": []
  }
 ],
 "metadata": {
  "anaconda-cloud": {},
  "kernelspec": {
   "display_name": "Python [conda root]",
   "language": "python",
   "name": "conda-root-py"
  },
  "language_info": {
   "codemirror_mode": {
    "name": "ipython",
    "version": 3
   },
   "file_extension": ".py",
   "mimetype": "text/x-python",
   "name": "python",
   "nbconvert_exporter": "python",
   "pygments_lexer": "ipython3",
   "version": "3.5.2"
  }
 },
 "nbformat": 4,
 "nbformat_minor": 1
}
