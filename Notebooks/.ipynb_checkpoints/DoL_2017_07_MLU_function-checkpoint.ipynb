{
 "cells": [
  {
   "cell_type": "markdown",
   "metadata": {},
   "source": [
    "# Reusing code: From one-off scripts to functions\n",
    "If we have gone to the trouble of writing a script like the one above, it is likely to not be the last time we want to extract MLU from CHAT-formatted transcripts. By adding a \"def\" statement, we can turn our script into a function we can call again. Below is the same script from before, but now formatted as a function called \"MLU_CUI\" which takes a single \"argument\": a CHAT formatted transcript. Note that functions can take more than one argument, but here we only require one. In addition to the \"def\" statement at the beginning, and the indentation this requires, the only other difference is that instead of a \"print\" statement at the end, we have a \"return\" statement. This allows us to save the output of the function as a variable, for later use."
   ]
  },
  {
   "cell_type": "code",
   "execution_count": 3,
   "metadata": {
    "collapsed": true
   },
   "outputs": [],
   "source": [
    "def MLU_CHI (file):\n",
    "    removelist = ['\\t', '\\r']\n",
    "\n",
    "    with open(file,'r') as f:\n",
    "        text = f.read()\n",
    "        for item in removelist:\n",
    "            text = text.replace(item, '')\n",
    "        text = text.split('\\n')\n",
    "\n",
    "        # make a list with only the POS lines from the transcript\n",
    "        utt = []\n",
    "        for s, val in enumerate(text):\n",
    "            if val.startswith('*CHI'):\n",
    "                m = str(text[s+1])\n",
    "                m = m[5:]\n",
    "                utt.append(m)\n",
    "\n",
    "        morphs = []\n",
    "        mPL = []\n",
    "        mPOSS = []\n",
    "        mPAST = []\n",
    "        mPROG = []\n",
    "        mPERF = []\n",
    "        mTHIRDSING = []\n",
    "        mCOMP1 = []\n",
    "        mCOMP2 = []\n",
    "        mSUPER1 = []\n",
    "        mSUPER2 = []\n",
    "        mADVR1 = []\n",
    "        mADVR2 = []\n",
    "        mAGT = []\n",
    "\n",
    "        for s in utt:\n",
    "            base = s.count('|')\n",
    "            PL = s.count('-PL')\n",
    "            POSS = s.count('POSS')\n",
    "            PAST = s.count('&PAST')\n",
    "            PROG = s.count('-PROG')\n",
    "            PERF = s.count('&PERF')\n",
    "            THIRDSING = s.count('&3S')\n",
    "            COMP1 = s.count('-CP')\n",
    "            COMP2 = s.count('&CP')\n",
    "            SUPER1 = s.count('-SP')\n",
    "            SUPER2 = s.count('&SP')\n",
    "            ADVR1 = s.count('-ADVR')\n",
    "            ADVR2 = s.count('LY')\n",
    "            AGT = s.count('-AGT')\n",
    "\n",
    "\n",
    "            m = base + PL + POSS + PAST + PROG + PERF + THIRDSING + COMP1 + COMP2 + SUPER1 + SUPER2 + ADVR1 + ADVR2 + AGT\n",
    "            morphs.append(m)\n",
    "            mPL.append(PL)\n",
    "            mPOSS.append(POSS)\n",
    "            mPAST.append(PAST)\n",
    "            mPROG.append(PROG)\n",
    "            mPERF.append(PERF)\n",
    "            mTHIRDSING.append(THIRDSING)\n",
    "            mCOMP1.append(COMP1)\n",
    "            mCOMP2.append(COMP2)\n",
    "            mSUPER1.append(SUPER1)\n",
    "            mSUPER2.append(SUPER2)\n",
    "            mADVR1.append(ADVR1)\n",
    "            mADVR2.append(ADVR2)\n",
    "            mAGT.append(AGT)\n",
    "\n",
    "    av = sum(morphs)/len(morphs)\n",
    "    return(av)"
   ]
  },
  {
   "cell_type": "markdown",
   "metadata": {},
   "source": [
    "Nothing appeared to happen when we ran this function, but \"MLU_CHI\" is now defined in Python's memory, and we can feed it files to process. Note that for the time being, this function is only available within the notebook in which it is defined. We will get to saving it later. For now, let's feed the function a file."
   ]
  },
  {
   "cell_type": "code",
   "execution_count": 4,
   "metadata": {
    "collapsed": true
   },
   "outputs": [],
   "source": [
    "from os import chdir as cd\n",
    "\n",
    "child = 'Adam'\n",
    "pathin = '/Users/ethan/Desktop/Brown/'+child\n",
    "pathout = '/Users/ethan/Desktop'\n",
    "\n",
    "cd(pathin)\n",
    "file = child + '01.cha'"
   ]
  },
  {
   "cell_type": "markdown",
   "metadata": {},
   "source": [
    "## Hey presto!\n",
    "We now only need one line of code (plus a print statement) to get Adam's MLU. All the hard work is hidden inside of MLU_CHI."
   ]
  },
  {
   "cell_type": "code",
   "execution_count": 5,
   "metadata": {
    "collapsed": false
   },
   "outputs": [
    {
     "name": "stdout",
     "output_type": "stream",
     "text": [
      "2.166403785488959\n"
     ]
    }
   ],
   "source": [
    "output = MLU_CHI(file)\n",
    "print(output)"
   ]
  },
  {
   "cell_type": "code",
   "execution_count": null,
   "metadata": {
    "collapsed": true
   },
   "outputs": [],
   "source": []
  }
 ],
 "metadata": {
  "anaconda-cloud": {},
  "kernelspec": {
   "display_name": "Python [conda root]",
   "language": "python",
   "name": "conda-root-py"
  },
  "language_info": {
   "codemirror_mode": {
    "name": "ipython",
    "version": 3
   },
   "file_extension": ".py",
   "mimetype": "text/x-python",
   "name": "python",
   "nbconvert_exporter": "python",
   "pygments_lexer": "ipython3",
   "version": "3.5.2"
  }
 },
 "nbformat": 4,
 "nbformat_minor": 1
}
