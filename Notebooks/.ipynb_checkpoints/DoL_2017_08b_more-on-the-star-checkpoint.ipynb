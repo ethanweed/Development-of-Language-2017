{
 "cells": [
  {
   "cell_type": "markdown",
   "metadata": {},
   "source": [
    "# More on the * operator\n",
    "We used the \"\\*\" operator to \"unlist\" a list of lists in the previous notebook, and that was fairly confusing. I'd like to give a few more examples about what this does. "
   ]
  },
  {
   "cell_type": "code",
   "execution_count": 52,
   "metadata": {
    "collapsed": false
   },
   "outputs": [
    {
     "name": "stdout",
     "output_type": "stream",
     "text": [
      "['Every', 'good', 'boy', 'deserves', 'fudge']\n",
      "Every good boy deserves fudge\n"
     ]
    }
   ],
   "source": [
    "# Using the * operator takes elements in a list out of the list so we can do things with them\n",
    "a = ['Every', 'good', 'boy', 'deserves', 'fudge']\n",
    "print(a)\n",
    "print(*a)"
   ]
  },
  {
   "cell_type": "markdown",
   "metadata": {},
   "source": [
    "## Range\n",
    "We can make a list of numbers by specifying the \"range\" or starting and ending points. Remember, Python counts in offsets from zero (zero-indexed), so point 10 in the range of integers is the number 9. \n",
    "\n",
    "## Function arguments\n",
    "The inputs we feed into a function are called \"arguments\". If we give \"range\" 1 argument (in this case \"10\", it interprets this as a request for integers from zero to the index specified by the argument. In this case, because Python is zero-indexed, the argument \"10\" gives us integers from 0-9."
   ]
  },
  {
   "cell_type": "code",
   "execution_count": 53,
   "metadata": {
    "collapsed": false
   },
   "outputs": [
    {
     "name": "stdout",
     "output_type": "stream",
     "text": [
      "[0, 1, 2, 3, 4, 5, 6, 7, 8, 9]\n"
     ]
    }
   ],
   "source": [
    "a = list(range(10))\n",
    "print(a)"
   ]
  },
  {
   "cell_type": "markdown",
   "metadata": {},
   "source": [
    "## Two arguments for \"range\"\n",
    "\n",
    "If we give range two arguments, it interpets these as starting and stopping indices"
   ]
  },
  {
   "cell_type": "code",
   "execution_count": 55,
   "metadata": {
    "collapsed": false
   },
   "outputs": [
    {
     "name": "stdout",
     "output_type": "stream",
     "text": [
      "[1, 2, 3, 4, 5]\n"
     ]
    }
   ],
   "source": [
    "#Make a list of number between index 1 and 6\n",
    "a = list(range(1, 6))\n",
    "print(a)"
   ]
  },
  {
   "cell_type": "markdown",
   "metadata": {},
   "source": [
    "## Three arguments for \"range\"\n",
    "\n",
    "If we give range three arguments, it interprets the first and second as the starting and stopping indices, and the third one as the \"step size\"."
   ]
  },
  {
   "cell_type": "code",
   "execution_count": 56,
   "metadata": {
    "collapsed": false
   },
   "outputs": [
    {
     "name": "stdout",
     "output_type": "stream",
     "text": [
      "[0, 5, 10, 15]\n",
      "[0, 2, 4, 6, 8, 10, 12, 14, 16, 18]\n"
     ]
    }
   ],
   "source": [
    "#Make a list of integers between index 0 and 20, in jumps of 5\n",
    "a = list(range(0, 20, 5))\n",
    "print(a)\n",
    "\n",
    "#Make a list of integers between index 0 and 20, in jumps of 2\n",
    "b = list(range(0, 20, 2))\n",
    "print(b)"
   ]
  },
  {
   "cell_type": "markdown",
   "metadata": {},
   "source": [
    "## Dynamically generated arguments\n",
    "\n",
    "It might be useful in some situations to put arguments in a list sometimes, instead of typing them directly into the range function call. Why would you want to do this? Well, in the case of \"range\", the function expects a certain number of input arguments. Well, sometimes we might not know ahead of time what the arguments we want to plug into a function are going to be; these might be extracted from our data, for instance. In a case like this, we could enter varialbe as arguments"
   ]
  },
  {
   "cell_type": "code",
   "execution_count": 69,
   "metadata": {
    "collapsed": false
   },
   "outputs": [
    {
     "name": "stdout",
     "output_type": "stream",
     "text": [
      "7\n",
      "[0, 1, 2, 3, 4, 5, 6]\n"
     ]
    }
   ],
   "source": [
    "# generate a random number between index 2 and 10\n",
    "from random import randint\n",
    "random_number = randint(2,10)\n",
    "print(random_number)\n",
    "\n",
    "# make a list of integers with the random number as input\n",
    "a = list(range(random_number))\n",
    "print(a)"
   ]
  },
  {
   "cell_type": "markdown",
   "metadata": {},
   "source": [
    "## Lists as arguments\n",
    "\n",
    "This works great, but sometimes it would be nice to input the elements of a list as the arguments to a function. Why would we want to do this? Well, there could be situations in which the function will accept any number of arguments (unlike range, which wants between 1 and 3 arguments). These arguments could be generated in some way by our script, perhaps based on the number of lines in our transcript, or number of words in an utterance, and we don't know ahead of time how many there will be. In a situation like this, it would be nice to collect our arguments in a list, and then feed them into the fuction. This is what we want to do in the n-gram function below, and is the reason we will need the * operator. So what happens if we try to input a list of numbers as arguments to \"range\"?"
   ]
  },
  {
   "cell_type": "code",
   "execution_count": 71,
   "metadata": {
    "collapsed": false
   },
   "outputs": [
    {
     "name": "stdout",
     "output_type": "stream",
     "text": [
      "[1, 6]\n"
     ]
    },
    {
     "ename": "TypeError",
     "evalue": "'list' object cannot be interpreted as an integer",
     "output_type": "error",
     "traceback": [
      "\u001b[0;31m---------------------------------------------------------------------------\u001b[0m",
      "\u001b[0;31mTypeError\u001b[0m                                 Traceback (most recent call last)",
      "\u001b[0;32m<ipython-input-71-6f2008719e9e>\u001b[0m in \u001b[0;36m<module>\u001b[0;34m()\u001b[0m\n\u001b[1;32m      2\u001b[0m \u001b[0mstart_and_stop\u001b[0m \u001b[0;34m=\u001b[0m \u001b[0;34m[\u001b[0m\u001b[0;36m1\u001b[0m\u001b[0;34m,\u001b[0m \u001b[0;36m6\u001b[0m\u001b[0;34m]\u001b[0m\u001b[0;34m\u001b[0m\u001b[0m\n\u001b[1;32m      3\u001b[0m \u001b[0mprint\u001b[0m\u001b[0;34m(\u001b[0m\u001b[0mstart_and_stop\u001b[0m\u001b[0;34m)\u001b[0m\u001b[0;34m\u001b[0m\u001b[0m\n\u001b[0;32m----> 4\u001b[0;31m \u001b[0ma\u001b[0m \u001b[0;34m=\u001b[0m \u001b[0mlist\u001b[0m\u001b[0;34m(\u001b[0m\u001b[0mrange\u001b[0m\u001b[0;34m(\u001b[0m\u001b[0mstart_and_stop\u001b[0m\u001b[0;34m)\u001b[0m\u001b[0;34m)\u001b[0m\u001b[0;34m\u001b[0m\u001b[0m\n\u001b[0m\u001b[1;32m      5\u001b[0m \u001b[0mprint\u001b[0m\u001b[0;34m(\u001b[0m\u001b[0ma\u001b[0m\u001b[0;34m)\u001b[0m\u001b[0;34m\u001b[0m\u001b[0m\n",
      "\u001b[0;31mTypeError\u001b[0m: 'list' object cannot be interpreted as an integer"
     ]
    }
   ],
   "source": [
    "# make a list of integers starting and stopping at the indices in \"start_and_stop\"\n",
    "start_and_stop = [1, 6]\n",
    "print(start_and_stop)\n",
    "a = list(range(start_and_stop))\n",
    "print(a)"
   ]
  },
  {
   "cell_type": "markdown",
   "metadata": {},
   "source": [
    "## Error!\n",
    "Python doesn't like this, because \"range\" wants integers: we can feed it a list. That gives it indigestion! On the other hand, if we use a \"\\*\" it takes the integers in the list out of the list, and feeds them into the \"range\" function, just the way we want"
   ]
  },
  {
   "cell_type": "code",
   "execution_count": 72,
   "metadata": {
    "collapsed": false
   },
   "outputs": [
    {
     "name": "stdout",
     "output_type": "stream",
     "text": [
      "[1, 2, 3, 4, 5]\n"
     ]
    }
   ],
   "source": [
    "# make a list of integers starting and stopping at the indices in \"start_and_stop\"\n",
    "start_and_stop = [1, 6]\n",
    "a = list(range(*start_and_stop))\n",
    "print(a)"
   ]
  },
  {
   "cell_type": "markdown",
   "metadata": {},
   "source": [
    "So long as there is a number of integers in the input list that is within the range expected by \"range\" it works"
   ]
  },
  {
   "cell_type": "code",
   "execution_count": 74,
   "metadata": {
    "collapsed": false
   },
   "outputs": [
    {
     "name": "stdout",
     "output_type": "stream",
     "text": [
      "[0, 5, 10, 15]\n"
     ]
    }
   ],
   "source": [
    "# make a list of integers that starts, stops, and steps by the values given in \"start_stop_step\"\n",
    "start_stop_step = [0, 20, 5]\n",
    "print(list(range(*start_stop_step)))"
   ]
  },
  {
   "cell_type": "markdown",
   "metadata": {},
   "source": [
    "## Using text arguments for zip function \n",
    "Now let's look at the n-gram problem again. First we need to get our text ready for input"
   ]
  },
  {
   "cell_type": "code",
   "execution_count": 75,
   "metadata": {
    "collapsed": false
   },
   "outputs": [
    {
     "name": "stdout",
     "output_type": "stream",
     "text": [
      "['far', 'out', 'in', 'the', 'uncharted', 'backwaters', 'of', 'the', 'unfashionable', 'end', 'of', 'the', 'western', 'spiral', 'arm', 'of', 'the', 'galaxy', 'lies', 'a', 'small', 'unregarded', 'yellow', 'sun']\n"
     ]
    }
   ],
   "source": [
    "from string import punctuation as pnc\n",
    "text = 'Far out in the uncharted backwaters of the unfashionable end of the western spiral arm of the Galaxy lies a small, unregarded yellow sun'\n",
    "text = text.lower()\n",
    "text = ''.join(x for x in text if x not in pnc)\n",
    "text = text.split()\n",
    "print(text)"
   ]
  },
  {
   "cell_type": "markdown",
   "metadata": {},
   "source": [
    "Next we want to make a dynamically generate list of lists, in which each list is our text offset by one word. Because we could feed any size text into this script, we don't necessarily know how many lists are going to be in \"a\". That depends on the number of words in the text."
   ]
  },
  {
   "cell_type": "code",
   "execution_count": 80,
   "metadata": {
    "collapsed": false
   },
   "outputs": [
    {
     "name": "stdout",
     "output_type": "stream",
     "text": [
      "['far', 'out', 'in', 'the', 'uncharted', 'backwaters', 'of', 'the', 'unfashionable', 'end', 'of', 'the', 'western', 'spiral', 'arm', 'of', 'the', 'galaxy', 'lies', 'a', 'small', 'unregarded', 'yellow', 'sun']\n",
      " \n",
      "['out', 'in', 'the', 'uncharted', 'backwaters', 'of', 'the', 'unfashionable', 'end', 'of', 'the', 'western', 'spiral', 'arm', 'of', 'the', 'galaxy', 'lies', 'a', 'small', 'unregarded', 'yellow', 'sun']\n",
      " \n",
      "['in', 'the', 'uncharted', 'backwaters', 'of', 'the', 'unfashionable', 'end', 'of', 'the', 'western', 'spiral', 'arm', 'of', 'the', 'galaxy', 'lies', 'a', 'small', 'unregarded', 'yellow', 'sun']\n",
      " \n"
     ]
    }
   ],
   "source": [
    "n = 3\n",
    "a = [text[i:] for i in range (n)]\n",
    "\n",
    "#show us the new lists, separted by a blank line, so we can see what we are working with\n",
    "for i, val in enumerate(a):\n",
    "    print(val)\n",
    "    print(' ')"
   ]
  },
  {
   "cell_type": "markdown",
   "metadata": {},
   "source": [
    "Now we want to zip all of these lists together, so that we can get groups of words (n-grams). If we want a tri-gram, we could do this:"
   ]
  },
  {
   "cell_type": "code",
   "execution_count": 81,
   "metadata": {
    "collapsed": false
   },
   "outputs": [
    {
     "name": "stdout",
     "output_type": "stream",
     "text": [
      "('far', 'out', 'in')\n",
      "('out', 'in', 'the')\n",
      "('in', 'the', 'uncharted')\n",
      "('the', 'uncharted', 'backwaters')\n",
      "('uncharted', 'backwaters', 'of')\n",
      "('backwaters', 'of', 'the')\n",
      "('of', 'the', 'unfashionable')\n",
      "('the', 'unfashionable', 'end')\n",
      "('unfashionable', 'end', 'of')\n",
      "('end', 'of', 'the')\n",
      "('of', 'the', 'western')\n",
      "('the', 'western', 'spiral')\n",
      "('western', 'spiral', 'arm')\n",
      "('spiral', 'arm', 'of')\n",
      "('arm', 'of', 'the')\n",
      "('of', 'the', 'galaxy')\n",
      "('the', 'galaxy', 'lies')\n",
      "('galaxy', 'lies', 'a')\n",
      "('lies', 'a', 'small')\n",
      "('a', 'small', 'unregarded')\n",
      "('small', 'unregarded', 'yellow')\n",
      "('unregarded', 'yellow', 'sun')\n"
     ]
    }
   ],
   "source": [
    "b = zip(a[0],a[1],a[2])\n",
    "\n",
    "for i, val in enumerate(b):\n",
    "    print(val)"
   ]
  },
  {
   "cell_type": "markdown",
   "metadata": {},
   "source": [
    "That works great if we know we want tri-grams every time. But it would be even sweeter if we could just decide on the fly how many words we want grouped together. If we want a 7-gram, we don't want to have to type in:\n",
    "\n",
    "    b = zip(a[0],a[1],a[2], a[3, ...........etc)\n",
    "    \n",
    "This is where the \\* comes in. It takes all of thes lists out of our list \"a\" and zips them together. Now all we have to do is change the line \"n = \" to whatever number we want, and Python takes care of the rest."
   ]
  },
  {
   "cell_type": "code",
   "execution_count": 82,
   "metadata": {
    "collapsed": false
   },
   "outputs": [
    {
     "name": "stdout",
     "output_type": "stream",
     "text": [
      "('far', 'out', 'in') ('out', 'in', 'the') ('in', 'the', 'uncharted') ('the', 'uncharted', 'backwaters') ('uncharted', 'backwaters', 'of') ('backwaters', 'of', 'the') ('of', 'the', 'unfashionable') ('the', 'unfashionable', 'end') ('unfashionable', 'end', 'of') ('end', 'of', 'the') ('of', 'the', 'western') ('the', 'western', 'spiral') ('western', 'spiral', 'arm') ('spiral', 'arm', 'of') ('arm', 'of', 'the') ('of', 'the', 'galaxy') ('the', 'galaxy', 'lies') ('galaxy', 'lies', 'a') ('lies', 'a', 'small') ('a', 'small', 'unregarded') ('small', 'unregarded', 'yellow') ('unregarded', 'yellow', 'sun')\n"
     ]
    }
   ],
   "source": [
    "n = 3\n",
    "a = zip(*[text[i:] for i in range (n)])\n",
    "print(*a)"
   ]
  },
  {
   "cell_type": "code",
   "execution_count": 83,
   "metadata": {
    "collapsed": false
   },
   "outputs": [
    {
     "name": "stdout",
     "output_type": "stream",
     "text": [
      "('far', 'out', 'in', 'the') ('out', 'in', 'the', 'uncharted') ('in', 'the', 'uncharted', 'backwaters') ('the', 'uncharted', 'backwaters', 'of') ('uncharted', 'backwaters', 'of', 'the') ('backwaters', 'of', 'the', 'unfashionable') ('of', 'the', 'unfashionable', 'end') ('the', 'unfashionable', 'end', 'of') ('unfashionable', 'end', 'of', 'the') ('end', 'of', 'the', 'western') ('of', 'the', 'western', 'spiral') ('the', 'western', 'spiral', 'arm') ('western', 'spiral', 'arm', 'of') ('spiral', 'arm', 'of', 'the') ('arm', 'of', 'the', 'galaxy') ('of', 'the', 'galaxy', 'lies') ('the', 'galaxy', 'lies', 'a') ('galaxy', 'lies', 'a', 'small') ('lies', 'a', 'small', 'unregarded') ('a', 'small', 'unregarded', 'yellow') ('small', 'unregarded', 'yellow', 'sun')\n"
     ]
    }
   ],
   "source": [
    "n = 4\n",
    "a = zip(*[text[i:] for i in range (n)])\n",
    "print(*a)"
   ]
  },
  {
   "cell_type": "code",
   "execution_count": 89,
   "metadata": {
    "collapsed": false
   },
   "outputs": [
    {
     "name": "stdout",
     "output_type": "stream",
     "text": [
      "This is a 23-gram\n",
      "('far', 'out', 'in', 'the', 'uncharted', 'backwaters', 'of', 'the', 'unfashionable', 'end', 'of', 'the', 'western', 'spiral', 'arm', 'of', 'the', 'galaxy', 'lies', 'a', 'small', 'unregarded', 'yellow') ('out', 'in', 'the', 'uncharted', 'backwaters', 'of', 'the', 'unfashionable', 'end', 'of', 'the', 'western', 'spiral', 'arm', 'of', 'the', 'galaxy', 'lies', 'a', 'small', 'unregarded', 'yellow', 'sun')\n"
     ]
    }
   ],
   "source": [
    "# we can even generate a rand-gram :-)\n",
    "from random import randint\n",
    "n = randint(3,len(text))\n",
    "print('This is a ' + str(n) + '-gram')\n",
    "\n",
    "a = zip(*[text[i:] for i in range (n)])\n",
    "print(*a)"
   ]
  },
  {
   "cell_type": "code",
   "execution_count": null,
   "metadata": {
    "collapsed": true
   },
   "outputs": [],
   "source": []
  },
  {
   "cell_type": "code",
   "execution_count": null,
   "metadata": {
    "collapsed": true
   },
   "outputs": [],
   "source": []
  }
 ],
 "metadata": {
  "anaconda-cloud": {},
  "kernelspec": {
   "display_name": "Python [conda root]",
   "language": "python",
   "name": "conda-root-py"
  },
  "language_info": {
   "codemirror_mode": {
    "name": "ipython",
    "version": 3
   },
   "file_extension": ".py",
   "mimetype": "text/x-python",
   "name": "python",
   "nbconvert_exporter": "python",
   "pygments_lexer": "ipython3",
   "version": "3.5.2"
  }
 },
 "nbformat": 4,
 "nbformat_minor": 1
}
