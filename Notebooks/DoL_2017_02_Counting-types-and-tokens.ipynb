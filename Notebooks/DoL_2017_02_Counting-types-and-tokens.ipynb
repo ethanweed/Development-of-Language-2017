{
 "cells": [
  {
   "cell_type": "markdown",
   "metadata": {},
   "source": [
    "# Counting types and tokens\n",
    "\n",
    "In this course, we want to use Python to help us analyze texts. One of the most common things we would like to know about a text are the numbers of types and tokens.\n",
    "\n",
    "In [Notebook 1] [], we had the following example:\n",
    "\n",
    "[notebook 1]: https://github.com/ethanweed/Development-of-Language-2017/blob/master/Notebooks/DoL_2017_01_Getting%20started%20with%20Python.ipynb"
   ]
  },
  {
   "cell_type": "code",
   "execution_count": 1,
   "metadata": {},
   "outputs": [
    {
     "name": "stdout",
     "output_type": "stream",
     "text": [
      "The number of words in this sentence is: 5\n"
     ]
    }
   ],
   "source": [
    "a = ['The', 'farmer', 'killed', 'the', 'duckling']\n",
    "b = len(a)\n",
    "print('The number of words in this sentence is: ' + str(b))"
   ]
  },
  {
   "cell_type": "markdown",
   "metadata": {},
   "source": [
    "This gives us the number of tokens (there are 5 words in the sentence), but \"the\" appears twice. If we use \"set()\", we can see how many unique items there are in the sentence:\n"
   ]
  },
  {
   "cell_type": "code",
   "execution_count": 8,
   "metadata": {},
   "outputs": [
    {
     "name": "stdout",
     "output_type": "stream",
     "text": [
      "{'farmer', 'duckling', 'killed', 'The', 'the'}\n",
      "The number of individual items is: 5\n"
     ]
    }
   ],
   "source": [
    "a = ['The', 'farmer', 'killed', 'the', 'duckling']\n",
    "b = set(a)\n",
    "print(b)\n",
    "print('The number of individual items is: ' + str(len(b)))"
   ]
  },
  {
   "cell_type": "markdown",
   "metadata": {},
   "source": [
    "In this case, we get the same number 5. Looking at the output, we can see why: \"The\" and \"the\" have been counted as separate items. We can use \"lower()\" to get rid of this problem:"
   ]
  },
  {
   "cell_type": "code",
   "execution_count": 10,
   "metadata": {},
   "outputs": [
    {
     "name": "stdout",
     "output_type": "stream",
     "text": [
      "['the', 'farmer', 'killed', 'the', 'duckling']\n"
     ]
    }
   ],
   "source": [
    "a = ['The', 'farmer', 'killed', 'the', 'duckling']\n",
    "a[0] = a[0].lower()\n",
    "print(a)"
   ]
  },
  {
   "cell_type": "markdown",
   "metadata": {},
   "source": [
    "Now we can try again to get the number of types and tokens in the list a:"
   ]
  },
  {
   "cell_type": "code",
   "execution_count": 12,
   "metadata": {},
   "outputs": [
    {
     "name": "stdout",
     "output_type": "stream",
     "text": [
      "Number of tokens: 5\n",
      "Number of types: 4\n"
     ]
    }
   ],
   "source": [
    "a = ['The', 'farmer', 'killed', 'the', 'duckling']\n",
    "a[0] = a[0].lower()\n",
    "tokens = len(a)\n",
    "types = len(set(a))\n",
    "\n",
    "print('Number of tokens: '+str(tokens))\n",
    "print('Number of types: '+str(types))"
   ]
  },
  {
   "cell_type": "markdown",
   "metadata": {},
   "source": [
    "## Quiz\n",
    "1. What does \"set()\" do?\n",
    "1. What does the line \"a[0] = a[0].lower()\" do?\n",
    "1. What does the line \"types = len(set(a))\" do?"
   ]
  }
 ],
 "metadata": {
  "anaconda-cloud": {},
  "kernelspec": {
   "display_name": "Python 3",
   "language": "python",
   "name": "python3"
  },
  "language_info": {
   "codemirror_mode": {
    "name": "ipython",
    "version": 3
   },
   "file_extension": ".py",
   "mimetype": "text/x-python",
   "name": "python",
   "nbconvert_exporter": "python",
   "pygments_lexer": "ipython3",
   "version": "3.6.6"
  }
 },
 "nbformat": 4,
 "nbformat_minor": 1
}
