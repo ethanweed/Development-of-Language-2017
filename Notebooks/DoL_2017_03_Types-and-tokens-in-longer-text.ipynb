{
 "cells": [
  {
   "cell_type": "markdown",
   "metadata": {},
   "source": [
    "## Types and tokens in a longer text\n",
    "\n",
    "In the [Notebook 2][], we counted the number of types and tokens in a short list of words. Here, we will look at doing the same thing with a longer text. We will use the short story \"Continuity of the Parks\" by Julio Cortázar as our text.\n",
    "[notebook 2]: https://github.com/ethanweed/Development-of-Language-2017/blob/master/Notebooks/DoL_2017_02_Counting-types-and-tokens.ipynb"
   ]
  },
  {
   "cell_type": "code",
   "execution_count": 29,
   "metadata": {
    "collapsed": false
   },
   "outputs": [],
   "source": [
    "text = \"He had begun to read the novel a few days before. He had put it aside because of some urgent business conferences, opened it again on his way back to the estate by train; he permitted himself a slowly growing interest in the plot, in the characterizations. That afternoon, after writing a letter giving his power of attorney and discussing a matter of joint ownership with the manager of his estate, he returned to the book in the tranquility of his study which looked out upon the park with its oaks. Sprawled in his favorite armchair, its back toward the door--even the possibility of an intrusion would have irritated him, had he thought of it--he let his left hand caress repeatedly the green velvet upholstery and set to reading the final chapters. He remembered effortlessly the names and his mental image of the characters; the novel spread its glamour over him almost at once. He tasted the almost perverse pleasure of disengaging himself line by line from the things around him, and at the same time feeling his head rest comfortably on the green velvet of the chair with its high back, sensing that the cigarettes rested within reach of his hand, that beyond the great windows the air of afternoon danced under the oak trees in the park. Word by word, licked up the sordid dilemma of the hero and heroine, letting himself be absorbed to the point where the images settled down and took on color and movement, he was witness to the final encounter in the mountain cabin. The woman arrived first, apprehensive; now the lover came in, his face cut by the backlash of a branch. Admirably, she stanched the blood with her kisses, but he rebuffed her caresses, he had not come to perform again the ceremonies of a secret passion, protected by a world of dry leaves and furtive paths through the forest. The dagger warmed itself against his chest, and underneath liberty pounded, hidden close. A lustful, panting dialogue raced down the pages like a rivulet of snakes, and one felt it had all been decided from eternity. Even to those caresses which writhed about the lover's body, as though wishing to keep him there, to dissuade him from it; they sketched abominably the fame of that other body it was necessary to destroy. Nothing had been forgotten: alibis, unforeseen hazards, possible mistakes. From this hour on, each instant had its use minutely assigned. The cold-blooded, twice-gone-over reexamination of the details was barely broken off so that a hand could caress a cheek. It was beginning to get dark. Not looking at each other now, rigidly fixed upon the task which awaited them, they separated at the cabin door. She was to follow the trail that led north. On the path leading in the opposite direction, he turned for a moment to watch her running, her hair loosened and flying. He ran in turn, crouching among the trees and hedges until, in the yellowish fog of dusk, he could distinguish the avenue of trees which led up to the house. The dogs were not supposed to bark, and they did not bark. The estate manager would not be there at this hour, and he was not there. He went up the three porch steps and entered. The woman's words reached him over a thudding of blood in his ears: first a blue chamber, then a hall, then a carpeted stairway. At the top, two doors. No one in the first room, no one in the second. The door of the salon, and then, the knife in his hand, the light from the great windows, the high back of an armchair covered in green velvet, the head of the man in the chair reading a novel.\""
   ]
  },
  {
   "cell_type": "code",
   "execution_count": 30,
   "metadata": {
    "collapsed": false
   },
   "outputs": [
    {
     "name": "stdout",
     "output_type": "stream",
     "text": [
      "He had begun to read the novel a few days before. He had put it aside because of some urgent business conferences, opened it again on his way back to the estate by train; he permitted himself a slowly growing interest in the plot, in the characterizations. That afternoon, after writing a letter giving his power of attorney and discussing a matter of joint ownership with the manager of his estate, he returned to the book in the tranquility of his study which looked out upon the park with its oaks. Sprawled in his favorite armchair, its back toward the door--even the possibility of an intrusion would have irritated him, had he thought of it--he let his left hand caress repeatedly the green velvet upholstery and set to reading the final chapters. He remembered effortlessly the names and his mental image of the characters; the novel spread its glamour over him almost at once. He tasted the almost perverse pleasure of disengaging himself line by line from the things around him, and at the same time feeling his head rest comfortably on the green velvet of the chair with its high back, sensing that the cigarettes rested within reach of his hand, that beyond the great windows the air of afternoon danced under the oak trees in the park. Word by word, licked up the sordid dilemma of the hero and heroine, letting himself be absorbed to the point where the images settled down and took on color and movement, he was witness to the final encounter in the mountain cabin. The woman arrived first, apprehensive; now the lover came in, his face cut by the backlash of a branch. Admirably, she stanched the blood with her kisses, but he rebuffed her caresses, he had not come to perform again the ceremonies of a secret passion, protected by a world of dry leaves and furtive paths through the forest. The dagger warmed itself against his chest, and underneath liberty pounded, hidden close. A lustful, panting dialogue raced down the pages like a rivulet of snakes, and one felt it had all been decided from eternity. Even to those caresses which writhed about the lover's body, as though wishing to keep him there, to dissuade him from it; they sketched abominably the fame of that other body it was necessary to destroy. Nothing had been forgotten: alibis, unforeseen hazards, possible mistakes. From this hour on, each instant had its use minutely assigned. The cold-blooded, twice-gone-over reexamination of the details was barely broken off so that a hand could caress a cheek. It was beginning to get dark. Not looking at each other now, rigidly fixed upon the task which awaited them, they separated at the cabin door. She was to follow the trail that led north. On the path leading in the opposite direction, he turned for a moment to watch her running, her hair loosened and flying. He ran in turn, crouching among the trees and hedges until, in the yellowish fog of dusk, he could distinguish the avenue of trees which led up to the house. The dogs were not supposed to bark, and they did not bark. The estate manager would not be there at this hour, and he was not there. He went up the three porch steps and entered. The woman's words reached him over a thudding of blood in his ears: first a blue chamber, then a hall, then a carpeted stairway. At the top, two doors. No one in the first room, no one in the second. The door of the salon, and then, the knife in his hand, the light from the great windows, the high back of an armchair covered in green velvet, the head of the man in the chair reading a novel.\n"
     ]
    }
   ],
   "source": [
    "print(text)"
   ]
  },
  {
   "cell_type": "markdown",
   "metadata": {},
   "source": [
    "## Pre-processing the data\n",
    "Our text is now one long string, and not a list. So, if we do \"len(text)\" it will give us the length of the whole string, that is, the number of characters (including spaces and punctuation:"
   ]
  },
  {
   "cell_type": "code",
   "execution_count": 31,
   "metadata": {
    "collapsed": false
   },
   "outputs": [
    {
     "data": {
      "text/plain": [
       "3528"
      ]
     },
     "execution_count": 31,
     "metadata": {},
     "output_type": "execute_result"
    }
   ],
   "source": [
    "len(text)"
   ]
  },
  {
   "cell_type": "markdown",
   "metadata": {},
   "source": [
    "Since the text is now one long string, we can do lower() on the whole thing at once. We can then print() the first 100 characters to check that it worked:"
   ]
  },
  {
   "cell_type": "code",
   "execution_count": 32,
   "metadata": {
    "collapsed": false
   },
   "outputs": [
    {
     "name": "stdout",
     "output_type": "stream",
     "text": [
      "he had begun to read the novel a few days before. he had put it aside because of some urgent busines\n"
     ]
    }
   ],
   "source": [
    "text = text.lower()\n",
    "print(text[0:100])"
   ]
  },
  {
   "cell_type": "markdown",
   "metadata": {},
   "source": [
    "If we do set() on these first 100 characters, though, we will see there are some more problems:"
   ]
  },
  {
   "cell_type": "code",
   "execution_count": 33,
   "metadata": {
    "collapsed": false
   },
   "outputs": [
    {
     "name": "stdout",
     "output_type": "stream",
     "text": [
      "{'p', 'n', 'i', 'e', ' ', 'w', 'f', 's', 'o', 'r', 'm', 'g', 'd', 'b', 'v', 'h', 'u', 'c', 'a', 'l', '.', 'y', 't'}\n"
     ]
    }
   ],
   "source": [
    "a = set(text[0:100])\n",
    "print(a)"
   ]
  },
  {
   "cell_type": "markdown",
   "metadata": {},
   "source": [
    "Blank spaces and punctuation are still being counted as individual items. We will deal with the spaces later: first let's remove the punctuation marks. To make things easier for us, Python already has a whole set of tools for dealing with strings of text. It's called... \"string!\" We can get access to string by \"importing\" it. One of the things that \"string\" knows about is punctuation marks:"
   ]
  },
  {
   "cell_type": "code",
   "execution_count": 34,
   "metadata": {
    "collapsed": false
   },
   "outputs": [
    {
     "name": "stdout",
     "output_type": "stream",
     "text": [
      "{'>', '#', '+', '|', '&', '<', '`', '}', ':', '{', ']', '=', ')', '%', '$', '(', '_', '[', '*', '-', '~', '!', '^', '@', ',', '/', '\\\\', ';', \"'\", '.', '?', '\"'}\n"
     ]
    }
   ],
   "source": [
    "import string\n",
    "punct = set(string.punctuation)\n",
    "print(punct)"
   ]
  },
  {
   "cell_type": "code",
   "execution_count": 36,
   "metadata": {
    "collapsed": false
   },
   "outputs": [
    {
     "name": "stdout",
     "output_type": "stream",
     "text": [
      "he had begun to read the novel a few days before he had put it aside because of some urgent business conferences opened it again on his way back to the estate by train he permitted himself a slowly growing interest in the plot in the characterizations that afternoon after writing a letter giving his power of attorney and discussing a matter of joint ownership with the manager of his estate he returned to the book in the tranquility of his study which looked out upon the park with its oaks sprawled in his favorite armchair its back toward the dooreven the possibility of an intrusion would have irritated him had he thought of ithe let his left hand caress repeatedly the green velvet upholstery and set to reading the final chapters he remembered effortlessly the names and his mental image of the characters the novel spread its glamour over him almost at once he tasted the almost perverse pleasure of disengaging himself line by line from the things around him and at the same time feeling his head rest comfortably on the green velvet of the chair with its high back sensing that the cigarettes rested within reach of his hand that beyond the great windows the air of afternoon danced under the oak trees in the park word by word licked up the sordid dilemma of the hero and heroine letting himself be absorbed to the point where the images settled down and took on color and movement he was witness to the final encounter in the mountain cabin the woman arrived first apprehensive now the lover came in his face cut by the backlash of a branch admirably she stanched the blood with her kisses but he rebuffed her caresses he had not come to perform again the ceremonies of a secret passion protected by a world of dry leaves and furtive paths through the forest the dagger warmed itself against his chest and underneath liberty pounded hidden close a lustful panting dialogue raced down the pages like a rivulet of snakes and one felt it had all been decided from eternity even to those caresses which writhed about the lovers body as though wishing to keep him there to dissuade him from it they sketched abominably the fame of that other body it was necessary to destroy nothing had been forgotten alibis unforeseen hazards possible mistakes from this hour on each instant had its use minutely assigned the coldblooded twicegoneover reexamination of the details was barely broken off so that a hand could caress a cheek it was beginning to get dark not looking at each other now rigidly fixed upon the task which awaited them they separated at the cabin door she was to follow the trail that led north on the path leading in the opposite direction he turned for a moment to watch her running her hair loosened and flying he ran in turn crouching among the trees and hedges until in the yellowish fog of dusk he could distinguish the avenue of trees which led up to the house the dogs were not supposed to bark and they did not bark the estate manager would not be there at this hour and he was not there he went up the three porch steps and entered the womans words reached him over a thudding of blood in his ears first a blue chamber then a hall then a carpeted stairway at the top two doors no one in the first room no one in the second the door of the salon and then the knife in his hand the light from the great windows the high back of an armchair covered in green velvet the head of the man in the chair reading a novel\n"
     ]
    }
   ],
   "source": [
    "text = ''.join(x for x in text if x not in punct)\n",
    "print(text)"
   ]
  },
  {
   "cell_type": "markdown",
   "metadata": {},
   "source": [
    "## The power of Python!\n",
    "With three lines of code:\n",
    "\n",
    "    import string\n",
    "    punct = set(string.punctuation)\n",
    "    text = ''.join(x for x in text if x not in punct)\n",
    "\n",
    "we removed every punctuation mark in the text. The last line:\n",
    "\n",
    "    text = ''.join(x for x in text if x not in punct)\n",
    "\n",
    "deserves a bit more explanation, but we don't really have time for that now. Put simply, this line says: \"look through every character in the string (in this case, our story) and check if it is a punctuation mark. You will know that a character is a punctuation mark if you can find the same character in the set called \"punct\". Glue all the characters in the string that are not punctuation marks together (join). Don't put anything new between them. \n",
    "\n",
    "If this doesn't make sense, it's ok. The important thing for now is that it works!"
   ]
  },
  {
   "cell_type": "markdown",
   "metadata": {},
   "source": [
    "## Getting types and tokens\n",
    "\n",
    "Now, with this preprocessing out of the way, let's count the types and tokens in this text. We already saw that using len() on the variable \"text\" doesn't work yet, because \"text\" is one long string. So first we will need to split \"text\" up into a list of all the words in the text. We can do this by using the function split() and telling it to use the white spaces to divide up the text into words."
   ]
  },
  {
   "cell_type": "code",
   "execution_count": 38,
   "metadata": {
    "collapsed": false
   },
   "outputs": [
    {
     "name": "stdout",
     "output_type": "stream",
     "text": [
      "['he', 'had', 'begun', 'to', 'read', 'the', 'novel', 'a', 'few', 'days', 'before', 'he', 'had', 'put', 'it', 'aside', 'because', 'of', 'some', 'urgent', 'business', 'conferences', 'opened', 'it', 'again', 'on', 'his', 'way', 'back', 'to', 'the', 'estate', 'by', 'train', 'he', 'permitted', 'himself', 'a', 'slowly', 'growing', 'interest', 'in', 'the', 'plot', 'in', 'the', 'characterizations', 'that', 'afternoon', 'after', 'writing', 'a', 'letter', 'giving', 'his', 'power', 'of', 'attorney', 'and', 'discussing', 'a', 'matter', 'of', 'joint', 'ownership', 'with', 'the', 'manager', 'of', 'his', 'estate', 'he', 'returned', 'to', 'the', 'book', 'in', 'the', 'tranquility', 'of', 'his', 'study', 'which', 'looked', 'out', 'upon', 'the', 'park', 'with', 'its', 'oaks', 'sprawled', 'in', 'his', 'favorite', 'armchair', 'its', 'back', 'toward', 'the', 'dooreven', 'the', 'possibility', 'of', 'an', 'intrusion', 'would', 'have', 'irritated', 'him', 'had', 'he', 'thought', 'of', 'ithe', 'let', 'his', 'left', 'hand', 'caress', 'repeatedly', 'the', 'green', 'velvet', 'upholstery', 'and', 'set', 'to', 'reading', 'the', 'final', 'chapters', 'he', 'remembered', 'effortlessly', 'the', 'names', 'and', 'his', 'mental', 'image', 'of', 'the', 'characters', 'the', 'novel', 'spread', 'its', 'glamour', 'over', 'him', 'almost', 'at', 'once', 'he', 'tasted', 'the', 'almost', 'perverse', 'pleasure', 'of', 'disengaging', 'himself', 'line', 'by', 'line', 'from', 'the', 'things', 'around', 'him', 'and', 'at', 'the', 'same', 'time', 'feeling', 'his', 'head', 'rest', 'comfortably', 'on', 'the', 'green', 'velvet', 'of', 'the', 'chair', 'with', 'its', 'high', 'back', 'sensing', 'that', 'the', 'cigarettes', 'rested', 'within', 'reach', 'of', 'his', 'hand', 'that', 'beyond', 'the', 'great', 'windows', 'the', 'air', 'of', 'afternoon', 'danced', 'under', 'the', 'oak', 'trees', 'in', 'the', 'park', 'word', 'by', 'word', 'licked', 'up', 'the', 'sordid', 'dilemma', 'of', 'the', 'hero', 'and', 'heroine', 'letting', 'himself', 'be', 'absorbed', 'to', 'the', 'point', 'where', 'the', 'images', 'settled', 'down', 'and', 'took', 'on', 'color', 'and', 'movement', 'he', 'was', 'witness', 'to', 'the', 'final', 'encounter', 'in', 'the', 'mountain', 'cabin', 'the', 'woman', 'arrived', 'first', 'apprehensive', 'now', 'the', 'lover', 'came', 'in', 'his', 'face', 'cut', 'by', 'the', 'backlash', 'of', 'a', 'branch', 'admirably', 'she', 'stanched', 'the', 'blood', 'with', 'her', 'kisses', 'but', 'he', 'rebuffed', 'her', 'caresses', 'he', 'had', 'not', 'come', 'to', 'perform', 'again', 'the', 'ceremonies', 'of', 'a', 'secret', 'passion', 'protected', 'by', 'a', 'world', 'of', 'dry', 'leaves', 'and', 'furtive', 'paths', 'through', 'the', 'forest', 'the', 'dagger', 'warmed', 'itself', 'against', 'his', 'chest', 'and', 'underneath', 'liberty', 'pounded', 'hidden', 'close', 'a', 'lustful', 'panting', 'dialogue', 'raced', 'down', 'the', 'pages', 'like', 'a', 'rivulet', 'of', 'snakes', 'and', 'one', 'felt', 'it', 'had', 'all', 'been', 'decided', 'from', 'eternity', 'even', 'to', 'those', 'caresses', 'which', 'writhed', 'about', 'the', 'lovers', 'body', 'as', 'though', 'wishing', 'to', 'keep', 'him', 'there', 'to', 'dissuade', 'him', 'from', 'it', 'they', 'sketched', 'abominably', 'the', 'fame', 'of', 'that', 'other', 'body', 'it', 'was', 'necessary', 'to', 'destroy', 'nothing', 'had', 'been', 'forgotten', 'alibis', 'unforeseen', 'hazards', 'possible', 'mistakes', 'from', 'this', 'hour', 'on', 'each', 'instant', 'had', 'its', 'use', 'minutely', 'assigned', 'the', 'coldblooded', 'twicegoneover', 'reexamination', 'of', 'the', 'details', 'was', 'barely', 'broken', 'off', 'so', 'that', 'a', 'hand', 'could', 'caress', 'a', 'cheek', 'it', 'was', 'beginning', 'to', 'get', 'dark', 'not', 'looking', 'at', 'each', 'other', 'now', 'rigidly', 'fixed', 'upon', 'the', 'task', 'which', 'awaited', 'them', 'they', 'separated', 'at', 'the', 'cabin', 'door', 'she', 'was', 'to', 'follow', 'the', 'trail', 'that', 'led', 'north', 'on', 'the', 'path', 'leading', 'in', 'the', 'opposite', 'direction', 'he', 'turned', 'for', 'a', 'moment', 'to', 'watch', 'her', 'running', 'her', 'hair', 'loosened', 'and', 'flying', 'he', 'ran', 'in', 'turn', 'crouching', 'among', 'the', 'trees', 'and', 'hedges', 'until', 'in', 'the', 'yellowish', 'fog', 'of', 'dusk', 'he', 'could', 'distinguish', 'the', 'avenue', 'of', 'trees', 'which', 'led', 'up', 'to', 'the', 'house', 'the', 'dogs', 'were', 'not', 'supposed', 'to', 'bark', 'and', 'they', 'did', 'not', 'bark', 'the', 'estate', 'manager', 'would', 'not', 'be', 'there', 'at', 'this', 'hour', 'and', 'he', 'was', 'not', 'there', 'he', 'went', 'up', 'the', 'three', 'porch', 'steps', 'and', 'entered', 'the', 'womans', 'words', 'reached', 'him', 'over', 'a', 'thudding', 'of', 'blood', 'in', 'his', 'ears', 'first', 'a', 'blue', 'chamber', 'then', 'a', 'hall', 'then', 'a', 'carpeted', 'stairway', 'at', 'the', 'top', 'two', 'doors', 'no', 'one', 'in', 'the', 'first', 'room', 'no', 'one', 'in', 'the', 'second', 'the', 'door', 'of', 'the', 'salon', 'and', 'then', 'the', 'knife', 'in', 'his', 'hand', 'the', 'light', 'from', 'the', 'great', 'windows', 'the', 'high', 'back', 'of', 'an', 'armchair', 'covered', 'in', 'green', 'velvet', 'the', 'head', 'of', 'the', 'man', 'in', 'the', 'chair', 'reading', 'a', 'novel']\n"
     ]
    }
   ],
   "source": [
    "text = text.split(' ')\n",
    "print(text)"
   ]
  },
  {
   "cell_type": "markdown",
   "metadata": {},
   "source": [
    "At this point, we already know how to get the number of types and tokens, and can easily calculate the \"type-to-token ratio\", a typical measure of \"lexical diversity\":"
   ]
  },
  {
   "cell_type": "code",
   "execution_count": 44,
   "metadata": {
    "collapsed": false
   },
   "outputs": [
    {
     "name": "stdout",
     "output_type": "stream",
     "text": [
      "The number of types is: 325\n",
      "The number of tokens is: 632\n",
      "The type-to-token ratio is: 0.5142405063291139\n"
     ]
    }
   ],
   "source": [
    "tokens = len(text)\n",
    "types = len(set(text))\n",
    "TTR = types/tokens\n",
    "\n",
    "print('The number of types is: ' + str(types))\n",
    "print('The number of tokens is: ' + str(tokens))\n",
    "print('The type-to-token ratio is: ' + str(TTR))"
   ]
  }
 ],
 "metadata": {
  "anaconda-cloud": {},
  "kernelspec": {
   "display_name": "Python [conda root]",
   "language": "python",
   "name": "conda-root-py"
  },
  "language_info": {
   "codemirror_mode": {
    "name": "ipython",
    "version": 3
   },
   "file_extension": ".py",
   "mimetype": "text/x-python",
   "name": "python",
   "nbconvert_exporter": "python",
   "pygments_lexer": "ipython3",
   "version": "3.5.2"
  }
 },
 "nbformat": 4,
 "nbformat_minor": 1
}
