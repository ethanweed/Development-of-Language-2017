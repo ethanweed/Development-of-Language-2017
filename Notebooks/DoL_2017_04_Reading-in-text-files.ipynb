{
 "cells": [
  {
   "cell_type": "markdown",
   "metadata": {},
   "source": [
    "# Reading in text files\n",
    "\n",
    "So far we have either typed or copy/pasted text into our scripts to analyze. This is good for learning the basics, but in real life, we would like to be able to read text directly into our scripts from text-files stored on our computer. That is what we will learn in this lesson."
   ]
  },
  {
   "cell_type": "markdown",
   "metadata": {},
   "source": [
    "## Paths\n",
    "\n",
    "To start with, we have to know where things are on the computer. Every location has an address, and we need to give Python this address if we want it to find files we have stored. Depending on the operating system of your computer, paths may look slightly different, but the overall format is the same. On my computer, if I save a text-file called \"my_document\" on the desktop, it will have the path \"/Users/ethan/Desktop/my_document.txt\" Save a text-file on your desktop, and figure out what the path to that document is. Write something in the text-file, and make sure it is saved."
   ]
  },
  {
   "cell_type": "markdown",
   "metadata": {
    "collapsed": true
   },
   "source": [
    "# Path navigation in Python\n",
    "\n",
    "We can also navigate the file system using python. Like so many things in Python, there is a library for that we can import! It's called \"os\", and one of the things it can do is to change the active directory we are in: that is, we can move from one place to another on the computer. You already know the path to your new text file. In my case, it is. \"/Users/ethan/Desktop/my_document.txt\", so if I want to access that file from Python I type the following:\n",
    "\n",
    "    import os\n",
    "    os.chdir('/Users/ethan/Desktop/')\n",
    "\n",
    "Now I can do things with this file, like read the data in it, or write new data to it."
   ]
  },
  {
   "cell_type": "markdown",
   "metadata": {},
   "source": [
    "# Making life easier on ourselves\n",
    "\n",
    "We might want to use the path to our file again later, and it would be nice to not have to type it in all the time. Also, my path will look different than your path, and if I type the whole path in like I did above, if I share my codee with you, you will have to go through and change the path everywhere it occurs in the script, so that the code works on your computer as well. A handy shortcut to avoid some of these problems is to save the path as a variable. Why not? It's just a string anyway, right?"
   ]
  },
  {
   "cell_type": "code",
   "execution_count": 7,
   "metadata": {
    "collapsed": false
   },
   "outputs": [],
   "source": [
    "import os\n",
    "\n",
    "mypath = '/Users/ethan/Desktop/'\n",
    "\n",
    "os.chdir(mypath)\n"
   ]
  },
  {
   "cell_type": "markdown",
   "metadata": {},
   "source": [
    "# Reading the document\n",
    "\n",
    "Ok, now that we are in the right directory, let's see what is in our text file. In mine, I wrote \"Hi there! How's it going\"."
   ]
  },
  {
   "cell_type": "code",
   "execution_count": 12,
   "metadata": {
    "collapsed": false
   },
   "outputs": [
    {
     "name": "stdout",
     "output_type": "stream",
     "text": [
      "Hi there! How's it going?\n"
     ]
    }
   ],
   "source": [
    "\n",
    "with open('my_document.txt','r') as f:\n",
    "    text = f.read()\n",
    "    print(text)\n",
    "    f.close()"
   ]
  },
  {
   "cell_type": "code",
   "execution_count": null,
   "metadata": {
    "collapsed": true
   },
   "outputs": [],
   "source": []
  }
 ],
 "metadata": {
  "anaconda-cloud": {},
  "kernelspec": {
   "display_name": "Python [conda root]",
   "language": "python",
   "name": "conda-root-py"
  },
  "language_info": {
   "codemirror_mode": {
    "name": "ipython",
    "version": 3
   },
   "file_extension": ".py",
   "mimetype": "text/x-python",
   "name": "python",
   "nbconvert_exporter": "python",
   "pygments_lexer": "ipython3",
   "version": "3.5.2"
  }
 },
 "nbformat": 4,
 "nbformat_minor": 1
}
