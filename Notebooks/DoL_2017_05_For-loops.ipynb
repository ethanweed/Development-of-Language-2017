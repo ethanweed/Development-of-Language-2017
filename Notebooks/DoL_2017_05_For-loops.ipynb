{
 "cells": [
  {
   "cell_type": "markdown",
   "metadata": {},
   "source": [
    "# \"For\" loops\n",
    "\n",
    "Now that we have seen how to read files in to Python, and extract something meaningful from them (so far, TTR), it would be nice to go a little further. When doing corpus analysis, we would like to:\n",
    "\n",
    "1. read a number of files in, one at a time\n",
    "1. extract some value from each of them (TTR, MLU, etc.)\n",
    "1. save those values in a separate location (e.g. a spreadsheet)\n",
    "\n",
    "To tackle the first of these steps, we will need \"for\" loops.\n",
    "\n",
    "We'll start by using a \"for\" loop to cycle through a list of words and find the mean word length"
   ]
  },
  {
   "cell_type": "markdown",
   "metadata": {},
   "source": [
    "## Start with a list\n",
    "\n",
    "To keep it simple, we'll start with a single sentence"
   ]
  },
  {
   "cell_type": "code",
   "execution_count": 21,
   "metadata": {
    "collapsed": false
   },
   "outputs": [
    {
     "name": "stdout",
     "output_type": "stream",
     "text": [
      "['the', 'farmer', 'killed', 'the', 'duckling']\n"
     ]
    }
   ],
   "source": [
    "import string\n",
    "\n",
    "# our text to analyze\n",
    "a = 'The farmer killed the duckling.'\n",
    "\n",
    "# make all characters lower-case\n",
    "a = a.lower()\n",
    "\n",
    "# remove punctuation\n",
    "punct = set(string.punctuation)\n",
    "a = ''.join(x for x in a if x not in punct)\n",
    "\n",
    "# split into a list of words\n",
    "a = a.split()\n",
    "\n",
    "# find all the unique words\n",
    "a = set(a)\n",
    "\n",
    "# convert the set of unique words back to a list\n",
    "a = list(a)\n",
    "print(a)\n",
    "\n",
    "\n",
    "\n"
   ]
  },
  {
   "cell_type": "markdown",
   "metadata": {},
   "source": [
    "## Finding the length of a word\n",
    "\n",
    "We already know how to pick any particular word from the list and find its length"
   ]
  },
  {
   "cell_type": "code",
   "execution_count": 22,
   "metadata": {
    "collapsed": false
   },
   "outputs": [
    {
     "data": {
      "text/plain": [
       "3"
      ]
     },
     "execution_count": 22,
     "metadata": {},
     "output_type": "execute_result"
    }
   ],
   "source": [
    "b = a[0]\n",
    "len(b)"
   ]
  },
  {
   "cell_type": "markdown",
   "metadata": {},
   "source": [
    "## Find all the word lengths\n",
    "\n",
    "Now let's use a \"for\" loop to cycle through all the words in our list. NOTE: the indentation is important! Python will yell at you if you get it wrong!"
   ]
  },
  {
   "cell_type": "code",
   "execution_count": 23,
   "metadata": {
    "collapsed": false
   },
   "outputs": [
    {
     "name": "stdout",
     "output_type": "stream",
     "text": [
      "3\n",
      "6\n",
      "6\n",
      "3\n",
      "8\n"
     ]
    }
   ],
   "source": [
    "for word in a:\n",
    "    b = len(word)\n",
    "    print(b)\n"
   ]
  },
  {
   "cell_type": "markdown",
   "metadata": {},
   "source": [
    "## Adding context\n",
    "\n",
    "We might want to add some context to these numbers, so we know what they mean"
   ]
  },
  {
   "cell_type": "code",
   "execution_count": 24,
   "metadata": {
    "collapsed": false
   },
   "outputs": [
    {
     "name": "stdout",
     "output_type": "stream",
     "text": [
      "\"the\" is 3 letters long\n",
      "\"farmer\" is 6 letters long\n",
      "\"killed\" is 6 letters long\n",
      "\"the\" is 3 letters long\n",
      "\"duckling\" is 8 letters long\n"
     ]
    }
   ],
   "source": [
    "for word in a:\n",
    "    b = len(word)\n",
    "    print('\"' + word + '\"' + ' is ' + str(b) + ' letters long')"
   ]
  },
  {
   "cell_type": "markdown",
   "metadata": {},
   "source": [
    "## Saving our data\n",
    "\n",
    "In the examples above, every time we go to the next word, Python has forgotten the length of the previous word. If we want to calculate the mean length of these words, we need to retain this information. One way to do this is to set up an empty list, which we will fill with the values that are calculated inside our \"for\" loop."
   ]
  },
  {
   "cell_type": "code",
   "execution_count": 25,
   "metadata": {
    "collapsed": false
   },
   "outputs": [
    {
     "name": "stdout",
     "output_type": "stream",
     "text": [
      "[3, 6, 6, 3, 8]\n"
     ]
    }
   ],
   "source": [
    "# set up an empty list, to be filled with word lengths\n",
    "word_length_counter = []\n",
    "\n",
    "for word in a:\n",
    "    b = len(word)\n",
    "    \n",
    "    # use the \"append\" method to put the word-length values in our previously empty counter variable\n",
    "    word_length_counter.append(b)\n",
    "    \n",
    "print(word_length_counter)"
   ]
  },
  {
   "cell_type": "markdown",
   "metadata": {},
   "source": [
    "## Find the mean\n",
    "\n",
    "Now we can do simple math to add up all the word length values in the counter variable, and divide by the total number of items in the counter variable. Notice that we do not need to know how many items are stored in \"word_length_counter\""
   ]
  },
  {
   "cell_type": "code",
   "execution_count": 26,
   "metadata": {
    "collapsed": false
   },
   "outputs": [
    {
     "name": "stdout",
     "output_type": "stream",
     "text": [
      "5.2\n"
     ]
    }
   ],
   "source": [
    "av = sum(word_length_counter) / len(word_length_counter)\n",
    "print(av)"
   ]
  },
  {
   "cell_type": "markdown",
   "metadata": {},
   "source": [
    "# Quiz\n",
    "\n",
    "\n",
    "1. Adapt the line above so that it outputs the sentence: \"The mean length of words in the sentence 'The farmer killed the duckling' is 5.2\"\n",
    "1. Write a script that calculates:\n",
    "    1. the mean word length in the Jane Austen novel \"Pride and Predjudice\"\n",
    "    1. the total number of words in the Jane Austen novel \"Pride and Predjudice\"\n",
    "1. [Here] [austen] you can find six novels by Jane Austen. Write a script that cycles through all of them and calculates:\n",
    "    1. the total number of words for each novel\n",
    "    1. the mean length of words for each novel\n",
    "    1. the \"grand average\" word length for a Jane Austen novel (i.e., the mean of all the indivudual word-length means calculated above)\n",
    "    \n",
    "#### HINT: you can nest many \"for\" loops inside of each other\n",
    "#### HINT to the HINT: make sure each loop is indented properly - otherwise nothing will work\n",
    "\n",
    "[austen]: https://drive.google.com/open?id=0B4lOOWBOiL9jUXNYMWNBZkFROG8"
   ]
  },
  {
   "cell_type": "code",
   "execution_count": null,
   "metadata": {
    "collapsed": true
   },
   "outputs": [],
   "source": []
  }
 ],
 "metadata": {
  "anaconda-cloud": {},
  "kernelspec": {
   "display_name": "Python [conda root]",
   "language": "python",
   "name": "conda-root-py"
  },
  "language_info": {
   "codemirror_mode": {
    "name": "ipython",
    "version": 3
   },
   "file_extension": ".py",
   "mimetype": "text/x-python",
   "name": "python",
   "nbconvert_exporter": "python",
   "pygments_lexer": "ipython3",
   "version": "3.5.2"
  }
 },
 "nbformat": 4,
 "nbformat_minor": 1
}
