{
 "cells": [
  {
   "cell_type": "code",
   "execution_count": null,
   "metadata": {
    "collapsed": true
   },
   "outputs": [],
   "source": [
    "import os\n",
    "import string\n",
    "\n",
    "mypath = '/Users/ethan/Documents/Scripts/Teaching/Development-of-Language/DoL_2017/Data/Jane-Austen/'\n",
    "texts = ['Emma', 'Mansfield', 'Northanger', 'Persuasion', 'Pride', 'Sense'\n",
    "\n",
    "os.chdir(mypath)\n",
    "\n",
    "         \n",
    "with open(myfile,'r') as f:\n",
    "    text = f.read()\n",
    "    text = text.lower()\n",
    "    a = set(text)    \n",
    "    punct = set(string.punctuation)\n",
    "    text = ''.join(x for x in text if x not in punct)\n",
    "    text = text.split()\n",
    "    tokens = len(text)\n",
    "    types = len(set(text))\n",
    "    TTR = types/tokens"
   ]
  }
 ],
 "metadata": {
  "kernelspec": {
   "display_name": "Python [conda root]",
   "language": "python",
   "name": "conda-root-py"
  },
  "language_info": {
   "codemirror_mode": {
    "name": "ipython",
    "version": 3
   },
   "file_extension": ".py",
   "mimetype": "text/x-python",
   "name": "python",
   "nbconvert_exporter": "python",
   "pygments_lexer": "ipython3",
   "version": "3.5.2"
  }
 },
 "nbformat": 4,
 "nbformat_minor": 1
}
