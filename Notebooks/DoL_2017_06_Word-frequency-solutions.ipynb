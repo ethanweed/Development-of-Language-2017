{
 "cells": [
  {
   "cell_type": "markdown",
   "metadata": {},
   "source": [
    "# Quiz for everybody\n",
    "1. Find some other words that you would like to trace in Adam's speech.\n",
    "2. Make a spreadsheet with these word frequencies and his age, just as we did here for \"I\". Add columns for every word you choose to track.\n",
    "\n",
    "\n",
    "In Adam's speech, the researchers transcribed \"th\" reduction: \n",
    "\n",
    "    The transcriptions consistently record the fact that all three of the children tended to use reduce initial “th” to “d”. To deal with this, we have allowed for the inclusion in the lexicon of “de,” “dat,” “dose,” “dese,” and “dem.”\n",
    "- http://childes.psy.cmu.edu/access/Eng-NA/Brown.html\n",
    "\n",
    "It would be interesting to trace the development of this seemingly free variation. "
   ]
  },
  {
   "cell_type": "markdown",
   "metadata": {},
   "source": [
    "## Introducing the python \"dictionary\"\n",
    "\n",
    "As usual, there are different ways to solve this problem. One way would be to use a series of \"if\" statements:\n",
    "\n",
    "        for item in freq:\n",
    "        if item[0] == 'de':\n",
    "            de = item[1]\n",
    "        if item[0] == 'dat':\n",
    "            dat = item[1]\n",
    "        if item[0] == 'dose':\n",
    "            dose = item[1]\n",
    "                \n",
    "This will work just fine, but I want to take the opportunity to introduce you to another useful thing in Python: the dictionary. You already know about variable types like strings and integers, and you have met one type of data structure: lists. The dictionary is another kind of data structure. It is a series of key & value combinations, just like a regular dictionary. Think of the key as the word you look up in the dictionary, and the value as the definition. Here are some examples:"
   ]
  },
  {
   "cell_type": "code",
   "execution_count": 109,
   "metadata": {
    "collapsed": false
   },
   "outputs": [
    {
     "name": "stdout",
     "output_type": "stream",
     "text": [
      "house\n",
      "newspaper\n"
     ]
    }
   ],
   "source": [
    "# a (very short)\"Danish-English\" dictionary\n",
    "dan_eng = {'hus': 'house', 'bil': 'car', 'ø': 'island', 'avis': 'newspaper'}\n",
    "\n",
    "print(dan_eng.get('hus'))\n",
    "\n",
    "a = dan_eng.get('avis')\n",
    "\n",
    "print(a)"
   ]
  },
  {
   "cell_type": "code",
   "execution_count": 112,
   "metadata": {
    "collapsed": false
   },
   "outputs": [
    {
     "data": {
      "text/plain": [
       "70.4"
      ]
     },
     "execution_count": 112,
     "metadata": {},
     "output_type": "execute_result"
    }
   ],
   "source": [
    "# strings can be keys for numbers\n",
    "\n",
    "myweight = {'Monday': 70.2, 'Tuesday': 70.4, 'Wednesday': 72.3}\n",
    "myweight.get('Tuesday')"
   ]
  },
  {
   "cell_type": "code",
   "execution_count": 119,
   "metadata": {
    "collapsed": false
   },
   "outputs": [
    {
     "data": {
      "text/plain": [
       "'a carpenter'"
      ]
     },
     "execution_count": 119,
     "metadata": {},
     "output_type": "execute_result"
    }
   ],
   "source": [
    "# numbers can be keys for strings\n",
    "\n",
    "what_I_wanted_to_be_when_I_grew_up = {3: 'my dad', 5: 'a race car driver', 7: 'a carpenter', 12: 'a writer', 32: 'a linguist'}\n",
    "what_I_wanted_to_be_when_I_grew_up.get(7)"
   ]
  },
  {
   "cell_type": "markdown",
   "metadata": {},
   "source": [
    "## Introducing tuples\n",
    "\n",
    "To see how the solution below works, you also need to know about tuples. A tuple is kind of like a list, except that you can change the items in a list, but you can't change the items in a tuple. They are \"immutable\". Some examples:"
   ]
  },
  {
   "cell_type": "code",
   "execution_count": 147,
   "metadata": {
    "collapsed": false
   },
   "outputs": [
    {
     "name": "stdout",
     "output_type": "stream",
     "text": [
      "['apples', 'pears', 'oranges', 'grapes']\n",
      "('apples', 'pears', 'oranges', 'grapes')\n"
     ]
    }
   ],
   "source": [
    "# a list\n",
    "a = ['apples', 'pears', 'oranges', 'grapes']\n",
    "\n",
    "# a tuple\n",
    "b = ('apples', 'pears', 'oranges', 'grapes')\n",
    "\n",
    "print(a)\n",
    "print(b)"
   ]
  },
  {
   "cell_type": "code",
   "execution_count": 148,
   "metadata": {
    "collapsed": false
   },
   "outputs": [
    {
     "name": "stdout",
     "output_type": "stream",
     "text": [
      "['apples', 'pears', 'oranges', 'grapes']\n",
      "['apples', 'kiwi', 'oranges', 'grapes']\n"
     ]
    }
   ],
   "source": [
    "# you can change a list\n",
    "a = ['apples', 'pears', 'oranges', 'grapes']\n",
    "print(a)\n",
    "a[1] = 'kiwi'\n",
    "print(a)"
   ]
  },
  {
   "cell_type": "code",
   "execution_count": 122,
   "metadata": {
    "collapsed": false
   },
   "outputs": [
    {
     "ename": "TypeError",
     "evalue": "'tuple' object does not support item assignment",
     "output_type": "error",
     "traceback": [
      "\u001b[0;31m---------------------------------------------------------------------------\u001b[0m",
      "\u001b[0;31mTypeError\u001b[0m                                 Traceback (most recent call last)",
      "\u001b[0;32m<ipython-input-122-2502be8c72f3>\u001b[0m in \u001b[0;36m<module>\u001b[0;34m()\u001b[0m\n\u001b[1;32m      1\u001b[0m \u001b[0;31m# but you can't change a tuple\u001b[0m\u001b[0;34m\u001b[0m\u001b[0;34m\u001b[0m\u001b[0m\n\u001b[1;32m      2\u001b[0m \u001b[0mb\u001b[0m \u001b[0;34m=\u001b[0m \u001b[0;34m(\u001b[0m\u001b[0;34m'apples'\u001b[0m\u001b[0;34m,\u001b[0m \u001b[0;34m'pears'\u001b[0m\u001b[0;34m,\u001b[0m \u001b[0;34m'oranges'\u001b[0m\u001b[0;34m,\u001b[0m \u001b[0;34m'grapes'\u001b[0m\u001b[0;34m)\u001b[0m\u001b[0;34m\u001b[0m\u001b[0m\n\u001b[0;32m----> 3\u001b[0;31m \u001b[0mb\u001b[0m\u001b[0;34m[\u001b[0m\u001b[0;36m1\u001b[0m\u001b[0;34m]\u001b[0m \u001b[0;34m=\u001b[0m \u001b[0;34m'kiwi'\u001b[0m\u001b[0;34m\u001b[0m\u001b[0m\n\u001b[0m",
      "\u001b[0;31mTypeError\u001b[0m: 'tuple' object does not support item assignment"
     ]
    }
   ],
   "source": [
    "# but you can't change a tuple\n",
    "b = ('apples', 'pears', 'oranges', 'grapes')\n",
    "b[1] = 'kiwi'"
   ]
  },
  {
   "cell_type": "code",
   "execution_count": 149,
   "metadata": {
    "collapsed": false
   },
   "outputs": [
    {
     "name": "stdout",
     "output_type": "stream",
     "text": [
      "('apples', 5)\n"
     ]
    }
   ],
   "source": [
    "# you can also mix e.g. strings and integers in a tuple\n",
    "price = ('apples', 5)\n",
    "print(price)"
   ]
  },
  {
   "cell_type": "markdown",
   "metadata": {},
   "source": [
    "## Lists of tuples\n",
    "\n",
    "You can also have lists of tuples. For example:"
   ]
  },
  {
   "cell_type": "code",
   "execution_count": 126,
   "metadata": {
    "collapsed": false
   },
   "outputs": [
    {
     "data": {
      "text/plain": [
       "('grapes', 12)"
      ]
     },
     "execution_count": 126,
     "metadata": {},
     "output_type": "execute_result"
    }
   ],
   "source": [
    "fruit_prices = [('apples', 5), ('pears', 3), ('oranges, 9'), ('grapes', 12)]\n",
    "fruit_prices[3]"
   ]
  },
  {
   "cell_type": "markdown",
   "metadata": {},
   "source": [
    "## Making dictionaries from lists of tuples\n",
    "\n",
    "If you have a list of tuples which are pairs, like the one above, you can turn those pairs into a dictionary, like this:"
   ]
  },
  {
   "cell_type": "code",
   "execution_count": 155,
   "metadata": {
    "collapsed": false
   },
   "outputs": [
    {
     "name": "stdout",
     "output_type": "stream",
     "text": [
      "This is a list of tuples:\n",
      "[('apples', 5), ('pears', 3), ('oranges', 9), ('grapes', 12)]\n",
      "\n",
      "This is a dictionary:\n",
      "{'grapes': 12, 'oranges': 9, 'apples': 5, 'pears': 3}\n",
      "\n",
      "This is the price of apples:\n",
      "5\n"
     ]
    }
   ],
   "source": [
    "fruit_prices = [('apples', 5), ('pears', 3), ('oranges', 9), ('grapes', 12)]\n",
    "d = dict(fruit_prices)\n",
    "\n",
    "print('This is a list of tuples:')\n",
    "print(fruit_prices); print('')\n",
    "\n",
    "print('This is a dictionary:')\n",
    "print(d); print('')\n",
    "\n",
    "print('This is the price of apples:')\n",
    "print(d.get('apples'))"
   ]
  },
  {
   "cell_type": "markdown",
   "metadata": {},
   "source": [
    "## Making dictionaries of word frequency\n",
    "\n",
    "When we used the line:\n",
    "\n",
    "    freq = Counter(words).most_common(len(words))\n",
    "    \n",
    "in [Notebook 6] [nb6], the variable we were creating, \"freq\" is actually a list of tuples. We accessed the frequency of the word \"I\" this way:\n",
    "\n",
    "        for item in freq:\n",
    "        if item[0] == 'I':\n",
    "            icounter = item[1]\n",
    "\n",
    "But by adding the line\n",
    "\n",
    "    d = dict(freq)\n",
    "    \n",
    "We turn the list of tuples \"freq\" into a dictionary \"d\". Now we can just look up the frequency of any word by asking for it by name.\n",
    "\n",
    "[nb6]: https://github.com/ethanweed/Development-of-Language-2017/blob/master/Notebooks/DoL_2017_06_word-frequency.ipynb"
   ]
  },
  {
   "cell_type": "code",
   "execution_count": 145,
   "metadata": {
    "collapsed": false
   },
   "outputs": [
    {
     "name": "stdout",
     "output_type": "stream",
     "text": [
      "I: 30\n",
      "drum: 7\n",
      "piggie: 2\n",
      "doctor: 1\n",
      "Daddy: 45\n"
     ]
    }
   ],
   "source": [
    "from os import chdir as cd\n",
    "from collections import Counter\n",
    "from string import punctuation as pnc\n",
    "\n",
    "datapath = '/Users/ethan/Desktop/Brown/Adam/'\n",
    "file = 'Adam01.cha'\n",
    "\n",
    "cd(datapath)\n",
    "\n",
    "with open(file,'r') as f:\n",
    "    text = f.read()\n",
    "    for item in removelist:\n",
    "        text = text.replace(item, '')\n",
    "    text = text.split('\\n')\n",
    "\n",
    "    turns = []\n",
    "    for line in text:\n",
    "        if line.startswith('*CHI'):\n",
    "            line = line.replace('*CHI:', '')\n",
    "            line = ''.join(x for x in line if x not in punct) \n",
    "            line = line.strip()\n",
    "            turns.append(line)\n",
    "\n",
    "    all = ' '.join(turns)\n",
    "    words = all.split()\n",
    "    types = set(words)\n",
    "    tokens = len(words)\n",
    "\n",
    "\n",
    "    freq = Counter(words).most_common(len(words))\n",
    "    d = dict(freq)\n",
    "\n",
    "\n",
    "print('I: ' + str(d.get('I')))\n",
    "print('drum: ' + str(d.get('drum')))\n",
    "print('piggie: ' + str(d.get('piggie')))\n",
    "print('doctor: ' + str(d.get('doctor')))\n",
    "print('Daddy: ' + str(d.get('Daddy')))"
   ]
  },
  {
   "cell_type": "markdown",
   "metadata": {},
   "source": [
    "## Make a list of key words\n",
    "\n",
    "In the example above, I ask for the frequency of each value separately. E.g.\n",
    "\n",
    "    d.get('I')\n",
    "    d.get('drum')\n",
    "    \n",
    "But in making a script to get word frequencies, I wanted to make it easier to change or add to the words that I get want frequencies of. Did somebody say \"change\" or \"add to\"? Seems like the perfect time to make a list:\n",
    "\n",
    "    keywords = ['the', 'that', 'those', 'these', 'them', 'de', 'dat', 'dose', 'dese', 'dem']\n",
    "    \n",
    "Now I have a list of words that I want frequencies for, and all I need is a \"for\" loop to cycle through this list and get the frequency for each one. Of course, I can only ask for the frequency of a word if it is a word that the child actually used in the current transcript, so an \"if\" statement checks to see if the word I want shows up in the set of types. If it's not there, then I just want to record a \"0\" and move on.\n",
    "\n",
    "        for word in keywords:\n",
    "        if word in types:\n",
    "            value = d.get(word)\n",
    "            output.append(str(value/tokens))\n",
    "        else:\n",
    "            output.append('0')\n"
   ]
  },
  {
   "cell_type": "markdown",
   "metadata": {},
   "source": [
    "## My solution to Quiz question 1\n",
    "\n",
    "And without further ado.."
   ]
  },
  {
   "cell_type": "code",
   "execution_count": 5,
   "metadata": {
    "collapsed": false
   },
   "outputs": [
    {
     "name": "stdout",
     "output_type": "stream",
     "text": [
      "All done!\n"
     ]
    }
   ],
   "source": [
    "# import modules\n",
    "import glob\n",
    "from os import chdir as cd\n",
    "from collections import Counter\n",
    "from string import punctuation as pnc\n",
    "\n",
    "# define paths\n",
    "pathout = '/Users/ethan/Desktop/Adam_words.csv'\n",
    "datapath = '/Users/ethan/Desktop/Brown/Adam/'\n",
    "\n",
    "# make a list of the words I want to find the frequencies of\n",
    "keywords = ['the', 'that', 'those', 'these', 'them', 'de', 'dat', 'dose', 'dese', 'dem']\n",
    "\n",
    "# make the column headers and write them in the output file\n",
    "header = 'age' + ',' + ','.join(keywords) + '\\n'\n",
    "with open(pathout, 'a+') as nf:\n",
    "    nf.write(header)\n",
    "\n",
    "# move to the folder with the data\n",
    "cd(datapath)\n",
    "\n",
    "# define things we want to remove from the data\n",
    "removelist = ['\\t', '\\r']\n",
    "punct = set(pnc)\n",
    "\n",
    "# loop through all the files and do stuff\n",
    "for file in glob.glob('*.cha'):\n",
    "    with open(file,'r') as f:\n",
    "        text = f.read()\n",
    "        \n",
    "        # remove the removelist items from the text\n",
    "        for item in removelist:\n",
    "            text = text.replace(item, '')\n",
    "        text = text.split('\\n')\n",
    "        \n",
    "        # find the child's age\n",
    "        for item in text:\n",
    "            if '|CHI|' in item:\n",
    "                a = item    \n",
    "        a = a.split('|')\n",
    "        age = a[3]\n",
    "\n",
    "        # find only the things the child says\n",
    "        turns = []\n",
    "        for line in text:\n",
    "            if line.startswith('*CHI'):\n",
    "                line = line.replace('*CHI:', '')\n",
    "                line = ''.join(x for x in line if x not in punct) \n",
    "                line = line.strip()\n",
    "                turns.append(line)\n",
    "\n",
    "        # get the number of types and tokens\n",
    "        all = ' '.join(turns)\n",
    "        words = all.split()\n",
    "        types = set(words)\n",
    "        tokens = len(words)\n",
    "\n",
    "        # make a dictionary with the frequencies of every word spoken by the child\n",
    "        freq = Counter(words).most_common(len(words))\n",
    "        d = dict(freq)\n",
    "        \n",
    "        # look up and save the selected word frequencies\n",
    "        output =[]\n",
    "        for word in keywords:\n",
    "            if word in types:\n",
    "                value = d.get(word)\n",
    "                output.append(str(value/tokens))\n",
    "            else:\n",
    "                output.append('0')\n",
    "        \n",
    "        # make a new row and write it to the output csv file\n",
    "        newline = age + ',' + ','.join(output) + '\\n'\n",
    "        with open(pathout, 'a+') as nf:\n",
    "            nf.write(newline)\n",
    "    \n",
    "    # optionally add a message letting you know how many files you have processed\n",
    "    # this can be nice if it takes a long time per file and you want to know how far you have come\n",
    "    #print('Done with ' + file)\n",
    "\n",
    "# always nice to give yourself an encouraging message\n",
    "print('All done!')"
   ]
  },
  {
   "cell_type": "markdown",
   "metadata": {},
   "source": [
    "## Using Pandas to look at csv files from within Python\n",
    "\n",
    "We can use the \"import\" function in Excel to see the results of our work, but it would be nice to avoid Excel as much as possible. The module \"pandas\" allows us to work with a different kind of structure called a \"dataframe\", which is kind of like a spreadsheet inside of Python. Right now, we'll just use it to peek at the first 10 lines of our csv file, and check that it looks right. By convention, people usually import pandas as \"pd\""
   ]
  },
  {
   "cell_type": "code",
   "execution_count": 6,
   "metadata": {
    "collapsed": false
   },
   "outputs": [
    {
     "data": {
      "text/html": [
       "<div>\n",
       "<table border=\"1\" class=\"dataframe\">\n",
       "  <thead>\n",
       "    <tr style=\"text-align: right;\">\n",
       "      <th></th>\n",
       "      <th>age</th>\n",
       "      <th>the</th>\n",
       "      <th>that</th>\n",
       "      <th>those</th>\n",
       "      <th>these</th>\n",
       "      <th>them</th>\n",
       "      <th>de</th>\n",
       "      <th>dat</th>\n",
       "      <th>dose</th>\n",
       "      <th>dese</th>\n",
       "      <th>dem</th>\n",
       "    </tr>\n",
       "  </thead>\n",
       "  <tbody>\n",
       "    <tr>\n",
       "      <th>0</th>\n",
       "      <td>2;3.04</td>\n",
       "      <td>0.002125</td>\n",
       "      <td>0.055949</td>\n",
       "      <td>0.000000</td>\n",
       "      <td>0.000000</td>\n",
       "      <td>0.000000</td>\n",
       "      <td>0.000000</td>\n",
       "      <td>0.033640</td>\n",
       "      <td>0.0</td>\n",
       "      <td>0.000000</td>\n",
       "      <td>0.0</td>\n",
       "    </tr>\n",
       "    <tr>\n",
       "      <th>1</th>\n",
       "      <td>2;3.18</td>\n",
       "      <td>0.001031</td>\n",
       "      <td>0.038131</td>\n",
       "      <td>0.000000</td>\n",
       "      <td>0.000000</td>\n",
       "      <td>0.000344</td>\n",
       "      <td>0.000000</td>\n",
       "      <td>0.036757</td>\n",
       "      <td>0.0</td>\n",
       "      <td>0.000000</td>\n",
       "      <td>0.0</td>\n",
       "    </tr>\n",
       "    <tr>\n",
       "      <th>2</th>\n",
       "      <td>2;4.03</td>\n",
       "      <td>0.001408</td>\n",
       "      <td>0.018779</td>\n",
       "      <td>0.000000</td>\n",
       "      <td>0.000000</td>\n",
       "      <td>0.000000</td>\n",
       "      <td>0.000000</td>\n",
       "      <td>0.015023</td>\n",
       "      <td>0.0</td>\n",
       "      <td>0.000000</td>\n",
       "      <td>0.0</td>\n",
       "    </tr>\n",
       "    <tr>\n",
       "      <th>3</th>\n",
       "      <td>2;4.15</td>\n",
       "      <td>0.000000</td>\n",
       "      <td>0.070746</td>\n",
       "      <td>0.000000</td>\n",
       "      <td>0.000000</td>\n",
       "      <td>0.000000</td>\n",
       "      <td>0.000000</td>\n",
       "      <td>0.068834</td>\n",
       "      <td>0.0</td>\n",
       "      <td>0.000000</td>\n",
       "      <td>0.0</td>\n",
       "    </tr>\n",
       "    <tr>\n",
       "      <th>4</th>\n",
       "      <td>2;4.30</td>\n",
       "      <td>0.000489</td>\n",
       "      <td>0.033741</td>\n",
       "      <td>0.000489</td>\n",
       "      <td>0.000489</td>\n",
       "      <td>0.000000</td>\n",
       "      <td>0.000000</td>\n",
       "      <td>0.032763</td>\n",
       "      <td>0.0</td>\n",
       "      <td>0.000489</td>\n",
       "      <td>0.0</td>\n",
       "    </tr>\n",
       "    <tr>\n",
       "      <th>5</th>\n",
       "      <td>2;5.12</td>\n",
       "      <td>0.000000</td>\n",
       "      <td>0.029249</td>\n",
       "      <td>0.000000</td>\n",
       "      <td>0.000000</td>\n",
       "      <td>0.000000</td>\n",
       "      <td>0.000000</td>\n",
       "      <td>0.027736</td>\n",
       "      <td>0.0</td>\n",
       "      <td>0.000000</td>\n",
       "      <td>0.0</td>\n",
       "    </tr>\n",
       "    <tr>\n",
       "      <th>6</th>\n",
       "      <td>2;6.03</td>\n",
       "      <td>0.007086</td>\n",
       "      <td>0.038766</td>\n",
       "      <td>0.000000</td>\n",
       "      <td>0.000417</td>\n",
       "      <td>0.000417</td>\n",
       "      <td>0.002501</td>\n",
       "      <td>0.039183</td>\n",
       "      <td>0.0</td>\n",
       "      <td>0.000417</td>\n",
       "      <td>0.0</td>\n",
       "    </tr>\n",
       "    <tr>\n",
       "      <th>7</th>\n",
       "      <td>2;6.17</td>\n",
       "      <td>0.015253</td>\n",
       "      <td>0.039085</td>\n",
       "      <td>0.000000</td>\n",
       "      <td>0.000000</td>\n",
       "      <td>0.000000</td>\n",
       "      <td>0.012869</td>\n",
       "      <td>0.036702</td>\n",
       "      <td>0.0</td>\n",
       "      <td>0.000000</td>\n",
       "      <td>0.0</td>\n",
       "    </tr>\n",
       "    <tr>\n",
       "      <th>8</th>\n",
       "      <td>2;7.01</td>\n",
       "      <td>0.006287</td>\n",
       "      <td>0.028080</td>\n",
       "      <td>0.000000</td>\n",
       "      <td>0.000000</td>\n",
       "      <td>0.000838</td>\n",
       "      <td>0.003772</td>\n",
       "      <td>0.027242</td>\n",
       "      <td>0.0</td>\n",
       "      <td>0.000000</td>\n",
       "      <td>0.0</td>\n",
       "    </tr>\n",
       "    <tr>\n",
       "      <th>9</th>\n",
       "      <td>2;7.14</td>\n",
       "      <td>0.003766</td>\n",
       "      <td>0.016196</td>\n",
       "      <td>0.000000</td>\n",
       "      <td>0.000000</td>\n",
       "      <td>0.000753</td>\n",
       "      <td>0.002637</td>\n",
       "      <td>0.014689</td>\n",
       "      <td>0.0</td>\n",
       "      <td>0.000000</td>\n",
       "      <td>0.0</td>\n",
       "    </tr>\n",
       "  </tbody>\n",
       "</table>\n",
       "</div>"
      ],
      "text/plain": [
       "      age       the      that     those     these      them        de  \\\n",
       "0  2;3.04  0.002125  0.055949  0.000000  0.000000  0.000000  0.000000   \n",
       "1  2;3.18  0.001031  0.038131  0.000000  0.000000  0.000344  0.000000   \n",
       "2  2;4.03  0.001408  0.018779  0.000000  0.000000  0.000000  0.000000   \n",
       "3  2;4.15  0.000000  0.070746  0.000000  0.000000  0.000000  0.000000   \n",
       "4  2;4.30  0.000489  0.033741  0.000489  0.000489  0.000000  0.000000   \n",
       "5  2;5.12  0.000000  0.029249  0.000000  0.000000  0.000000  0.000000   \n",
       "6  2;6.03  0.007086  0.038766  0.000000  0.000417  0.000417  0.002501   \n",
       "7  2;6.17  0.015253  0.039085  0.000000  0.000000  0.000000  0.012869   \n",
       "8  2;7.01  0.006287  0.028080  0.000000  0.000000  0.000838  0.003772   \n",
       "9  2;7.14  0.003766  0.016196  0.000000  0.000000  0.000753  0.002637   \n",
       "\n",
       "        dat  dose      dese  dem  \n",
       "0  0.033640   0.0  0.000000  0.0  \n",
       "1  0.036757   0.0  0.000000  0.0  \n",
       "2  0.015023   0.0  0.000000  0.0  \n",
       "3  0.068834   0.0  0.000000  0.0  \n",
       "4  0.032763   0.0  0.000489  0.0  \n",
       "5  0.027736   0.0  0.000000  0.0  \n",
       "6  0.039183   0.0  0.000417  0.0  \n",
       "7  0.036702   0.0  0.000000  0.0  \n",
       "8  0.027242   0.0  0.000000  0.0  \n",
       "9  0.014689   0.0  0.000000  0.0  "
      ]
     },
     "execution_count": 6,
     "metadata": {},
     "output_type": "execute_result"
    }
   ],
   "source": [
    "from os import chdir as cd\n",
    "import pandas as pd\n",
    "\n",
    "pathin = '/Users/ethan/Desktop/'\n",
    "file = 'Adam_words.csv'\n",
    "\n",
    "cd(pathin)\n",
    "\n",
    "df = pd.read_csv(file, sep=',')\n",
    "df.head(n=10)"
   ]
  },
  {
   "cell_type": "markdown",
   "metadata": {},
   "source": [
    "## Quiz for everybody question 2\n",
    "\n",
    "Make a spreadsheet that tracks the frequency of the mother's use of a word of your choice.\n",
    "\n",
    "This shouldn't be too hard, now that we can do this for the child. All we need to do is change \\*CHI to \\*MOT here and there. "
   ]
  },
  {
   "cell_type": "code",
   "execution_count": 7,
   "metadata": {
    "collapsed": false
   },
   "outputs": [
    {
     "name": "stdout",
     "output_type": "stream",
     "text": [
      "All done!\n"
     ]
    }
   ],
   "source": [
    "import glob\n",
    "from os import chdir as cd\n",
    "from collections import Counter\n",
    "from string import punctuation as pnc\n",
    "\n",
    "pathout = '/Users/ethan/Desktop/Adam-MOT_words.csv'\n",
    "datapath = '/Users/ethan/Desktop/Brown/Adam/'\n",
    "\n",
    "keywords = ['the', 'that', 'those', 'these', 'them']\n",
    "header = 'age' + ',' + ','.join(keywords) + '\\n'\n",
    "\n",
    "\n",
    "with open(pathout, 'a+') as nf:\n",
    "    nf.write(header)\n",
    "\n",
    "cd(datapath)\n",
    "\n",
    "removelist = ['\\t', '\\r']\n",
    "\n",
    "punct = set(pnc)\n",
    "\n",
    "for file in glob.glob('*.cha'):\n",
    "    with open(file,'r') as f:\n",
    "        text = f.read()\n",
    "\n",
    "\n",
    "        for item in removelist:\n",
    "            text = text.replace(item, '')\n",
    "        text = text.split('\\n')\n",
    "        \n",
    "        for item in text:\n",
    "            if '|CHI|' in item:\n",
    "                a = item\n",
    "            \n",
    "        a = a.split('|')\n",
    "        age = a[3]\n",
    "\n",
    "        turns = []\n",
    "        for line in text:\n",
    "            if line.startswith('*MOT'):\n",
    "                line = line.replace('*MOT:', '')\n",
    "                line = ''.join(x for x in line if x not in punct) \n",
    "                line = line.strip()\n",
    "                turns.append(line)\n",
    "\n",
    "        all = ' '.join(turns)\n",
    "        words = all.split()\n",
    "        types = set(words)\n",
    "        tokens = len(words)\n",
    "\n",
    "        \n",
    "        freq = Counter(words).most_common(len(words))\n",
    "        d = dict(freq)\n",
    "\n",
    "        output =[]\n",
    "        \n",
    "        for word in keywords:\n",
    "            if word in types:\n",
    "                value = d.get(word)\n",
    "                output.append(str(value/tokens))\n",
    "            else:\n",
    "                output.append('0')\n",
    "\n",
    "        newline = age + ',' + ','.join(output) + '\\n'\n",
    "    \n",
    "        with open(pathout, 'a+') as nf:\n",
    "            nf.write(newline)\n",
    "    #print('Done with ' + file)\n",
    "\n",
    "print('All done!')"
   ]
  },
  {
   "cell_type": "code",
   "execution_count": 163,
   "metadata": {
    "collapsed": false
   },
   "outputs": [
    {
     "data": {
      "text/html": [
       "<div>\n",
       "<table border=\"1\" class=\"dataframe\">\n",
       "  <thead>\n",
       "    <tr style=\"text-align: right;\">\n",
       "      <th></th>\n",
       "      <th>age</th>\n",
       "      <th>the</th>\n",
       "      <th>that</th>\n",
       "      <th>those</th>\n",
       "      <th>these</th>\n",
       "      <th>them</th>\n",
       "    </tr>\n",
       "  </thead>\n",
       "  <tbody>\n",
       "    <tr>\n",
       "      <th>0</th>\n",
       "      <td>2;3.04</td>\n",
       "      <td>0.023344</td>\n",
       "      <td>0.026059</td>\n",
       "      <td>0.003800</td>\n",
       "      <td>0.000543</td>\n",
       "      <td>0.002172</td>\n",
       "    </tr>\n",
       "    <tr>\n",
       "      <th>1</th>\n",
       "      <td>2;3.18</td>\n",
       "      <td>0.045280</td>\n",
       "      <td>0.028396</td>\n",
       "      <td>0.001919</td>\n",
       "      <td>0.000384</td>\n",
       "      <td>0.000000</td>\n",
       "    </tr>\n",
       "    <tr>\n",
       "      <th>2</th>\n",
       "      <td>2;4.03</td>\n",
       "      <td>0.048830</td>\n",
       "      <td>0.024924</td>\n",
       "      <td>0.001017</td>\n",
       "      <td>0.000000</td>\n",
       "      <td>0.001017</td>\n",
       "    </tr>\n",
       "    <tr>\n",
       "      <th>3</th>\n",
       "      <td>2;4.15</td>\n",
       "      <td>0.031723</td>\n",
       "      <td>0.033165</td>\n",
       "      <td>0.001442</td>\n",
       "      <td>0.000000</td>\n",
       "      <td>0.003605</td>\n",
       "    </tr>\n",
       "    <tr>\n",
       "      <th>4</th>\n",
       "      <td>2;4.30</td>\n",
       "      <td>0.051484</td>\n",
       "      <td>0.013325</td>\n",
       "      <td>0.002423</td>\n",
       "      <td>0.000000</td>\n",
       "      <td>0.001817</td>\n",
       "    </tr>\n",
       "    <tr>\n",
       "      <th>5</th>\n",
       "      <td>2;5.12</td>\n",
       "      <td>0.040998</td>\n",
       "      <td>0.019608</td>\n",
       "      <td>0.001783</td>\n",
       "      <td>0.000000</td>\n",
       "      <td>0.004456</td>\n",
       "    </tr>\n",
       "    <tr>\n",
       "      <th>6</th>\n",
       "      <td>2;6.03</td>\n",
       "      <td>0.039510</td>\n",
       "      <td>0.018364</td>\n",
       "      <td>0.002782</td>\n",
       "      <td>0.000556</td>\n",
       "      <td>0.002226</td>\n",
       "    </tr>\n",
       "    <tr>\n",
       "      <th>7</th>\n",
       "      <td>2;6.17</td>\n",
       "      <td>0.036791</td>\n",
       "      <td>0.021713</td>\n",
       "      <td>0.002413</td>\n",
       "      <td>0.000603</td>\n",
       "      <td>0.001206</td>\n",
       "    </tr>\n",
       "    <tr>\n",
       "      <th>8</th>\n",
       "      <td>2;7.01</td>\n",
       "      <td>0.040627</td>\n",
       "      <td>0.019090</td>\n",
       "      <td>0.001958</td>\n",
       "      <td>0.000000</td>\n",
       "      <td>0.003916</td>\n",
       "    </tr>\n",
       "    <tr>\n",
       "      <th>9</th>\n",
       "      <td>2;7.14</td>\n",
       "      <td>0.038502</td>\n",
       "      <td>0.023933</td>\n",
       "      <td>0.001041</td>\n",
       "      <td>0.000520</td>\n",
       "      <td>0.003642</td>\n",
       "    </tr>\n",
       "  </tbody>\n",
       "</table>\n",
       "</div>"
      ],
      "text/plain": [
       "      age       the      that     those     these      them\n",
       "0  2;3.04  0.023344  0.026059  0.003800  0.000543  0.002172\n",
       "1  2;3.18  0.045280  0.028396  0.001919  0.000384  0.000000\n",
       "2  2;4.03  0.048830  0.024924  0.001017  0.000000  0.001017\n",
       "3  2;4.15  0.031723  0.033165  0.001442  0.000000  0.003605\n",
       "4  2;4.30  0.051484  0.013325  0.002423  0.000000  0.001817\n",
       "5  2;5.12  0.040998  0.019608  0.001783  0.000000  0.004456\n",
       "6  2;6.03  0.039510  0.018364  0.002782  0.000556  0.002226\n",
       "7  2;6.17  0.036791  0.021713  0.002413  0.000603  0.001206\n",
       "8  2;7.01  0.040627  0.019090  0.001958  0.000000  0.003916\n",
       "9  2;7.14  0.038502  0.023933  0.001041  0.000520  0.003642"
      ]
     },
     "execution_count": 163,
     "metadata": {},
     "output_type": "execute_result"
    }
   ],
   "source": [
    "# check that the created csv file looks right\n",
    "from os import chdir as cd\n",
    "import pandas as pd\n",
    "\n",
    "pathin = '/Users/ethan/Desktop/'\n",
    "file = 'Adam-MOT_words.csv'\n",
    "\n",
    "cd(pathin)\n",
    "\n",
    "df = pd.read_csv(file, sep=',')\n",
    "df.head(n=10)"
   ]
  },
  {
   "cell_type": "markdown",
   "metadata": {},
   "source": [
    "## Bonus question, for those who can't get enough:\n",
    "Write a script that loops through all three children and makes three different spreadsheets tracking the frequency of \"I\" (or some other word) for all three children.\n",
    "\n",
    "If we can get can the data for one child, we should be able to get it for all of them. What is needed is a way to move between the different folders and to flexibly name the spreadsheets we create so we can keep track of which child's data we are looking at.\n",
    "\n",
    "My solution to this was to make a list of the children's names (since the folders are named with the children's names). I could then move through this list and use the child's name to point the script to the correct folder, and to name the csv files with the output with correct child's name."
   ]
  },
  {
   "cell_type": "code",
   "execution_count": 161,
   "metadata": {
    "collapsed": false
   },
   "outputs": [
    {
     "name": "stdout",
     "output_type": "stream",
     "text": [
      "Done with Adam\n",
      "Done with Eve\n",
      "Done with Sarah\n",
      "All done!\n"
     ]
    }
   ],
   "source": [
    "import glob\n",
    "from os import chdir as cd\n",
    "from collections import Counter\n",
    "from string import punctuation as pnc\n",
    "\n",
    "children = ['Adam', 'Eve', 'Sarah']\n",
    "\n",
    "for child in children:\n",
    "\n",
    "    pathout = '/Users/ethan/Desktop/' + child + '.csv'\n",
    "    datapath = '/Users/ethan/Desktop/Brown/' + child\n",
    "\n",
    "    keywords = ['the', 'that', 'those', 'these', 'them', 'de', 'dat', 'dose', 'dese', 'dem']\n",
    "    header = 'age' + ',' + ','.join(keywords) + '\\n'\n",
    "\n",
    "\n",
    "    with open(pathout, 'a+') as nf:\n",
    "        nf.write(header)\n",
    "\n",
    "    cd(datapath)\n",
    "\n",
    "    removelist = ['\\t', '\\r']\n",
    "\n",
    "    punct = set(pnc)\n",
    "\n",
    "    for file in glob.glob('*.cha'):\n",
    "        with open(file,'r') as f:\n",
    "            text = f.read()\n",
    "\n",
    "        with open(file,'r') as f:\n",
    "            text = f.read()\n",
    "            for item in removelist:\n",
    "                text = text.replace(item, '')\n",
    "            text = text.split('\\n')\n",
    "\n",
    "            for item in text:\n",
    "                if '|CHI|' in item:\n",
    "                    a = item\n",
    "\n",
    "            a = a.split('|')\n",
    "            age = a[3]\n",
    "\n",
    "            turns = []\n",
    "            for line in text:\n",
    "                if line.startswith('*CHI'):\n",
    "                    line = line.replace('*CHI:', '')\n",
    "                    line = ''.join(x for x in line if x not in punct) \n",
    "                    line = line.strip()\n",
    "                    turns.append(line)\n",
    "\n",
    "            all = ' '.join(turns)\n",
    "            words = all.split()\n",
    "            types = set(words)\n",
    "            tokens = len(words)\n",
    "\n",
    "\n",
    "            freq = Counter(words).most_common(len(words))\n",
    "            d = dict(freq)\n",
    "\n",
    "            output =[]\n",
    "\n",
    "            for word in keywords:\n",
    "                if word in types:\n",
    "                    value = d.get(word)\n",
    "                    output.append(str(value/tokens))\n",
    "                else:\n",
    "                    output.append('0')\n",
    "\n",
    "            newline = age + ',' + ','.join(output) + '\\n'\n",
    "\n",
    "            with open(pathout, 'a+') as nf:\n",
    "                nf.write(newline)\n",
    "        #print('Done with ' + file)\n",
    "    print('Done with ' + child)\n",
    "print('All done!')"
   ]
  },
  {
   "cell_type": "code",
   "execution_count": 162,
   "metadata": {
    "collapsed": false
   },
   "outputs": [
    {
     "name": "stdout",
     "output_type": "stream",
     "text": [
      "Adam.csv\n",
      "      age       the      that     those     these      them   de       dat  \\\n",
      "0  2;3.04  0.002125  0.055949  0.000000  0.000000  0.000000  0.0  0.033640   \n",
      "1  2;3.18  0.001031  0.038131  0.000000  0.000000  0.000344  0.0  0.036757   \n",
      "2  2;4.03  0.001408  0.018779  0.000000  0.000000  0.000000  0.0  0.015023   \n",
      "3  2;4.15  0.000000  0.070746  0.000000  0.000000  0.000000  0.0  0.068834   \n",
      "4  2;4.30  0.000489  0.033741  0.000489  0.000489  0.000000  0.0  0.032763   \n",
      "\n",
      "   dose      dese  dem  \n",
      "0   0.0  0.000000  0.0  \n",
      "1   0.0  0.000000  0.0  \n",
      "2   0.0  0.000000  0.0  \n",
      "3   0.0  0.000000  0.0  \n",
      "4   0.0  0.000489  0.0  \n",
      " \n",
      "Eve.csv\n",
      "    age       the      that     those     these  them        de       dat  \\\n",
      "0  1;6.  0.009470  0.061237  0.000000  0.000000   0.0  0.000631  0.000000   \n",
      "1  1;6.  0.010493  0.017838  0.000000  0.000000   0.0  0.002099  0.000000   \n",
      "2  1;7.  0.004902  0.031046  0.001634  0.000000   0.0  0.000000  0.000000   \n",
      "3  1;7.  0.009780  0.025265  0.000000  0.000000   0.0  0.000815  0.000815   \n",
      "4  1;8.  0.008347  0.031163  0.000000  0.001113   0.0  0.000000  0.000000   \n",
      "\n",
      "   dose  dese  dem  \n",
      "0     0     0  0.0  \n",
      "1     0     0  0.0  \n",
      "2     0     0  0.0  \n",
      "3     0     0  0.0  \n",
      "4     0     0  0.0  \n",
      " \n",
      "Sarah.csv\n",
      "      age  the      that  those  these  them        de       dat  dose  dese  \\\n",
      "0  2;3.05  0.0  0.016878    0.0    0.0   0.0  0.000000  0.012658   0.0   0.0   \n",
      "1  2;3.07  0.0  0.013245    0.0    0.0   0.0  0.001656  0.004967   0.0   0.0   \n",
      "2  2;3.19  0.0  0.038519    0.0    0.0   0.0  0.000000  0.016296   0.0   0.0   \n",
      "3  2;3.22  0.0  0.011905    0.0    0.0   0.0  0.000000  0.011905   0.0   0.0   \n",
      "4  2;3.26  0.0  0.000000    0.0    0.0   0.0  0.000000  0.000000   0.0   0.0   \n",
      "\n",
      "   dem  \n",
      "0  0.0  \n",
      "1  0.0  \n",
      "2  0.0  \n",
      "3  0.0  \n",
      "4  0.0  \n",
      " \n"
     ]
    }
   ],
   "source": [
    "# check that the created csv files look right\n",
    "from os import chdir as cd\n",
    "import pandas as pd\n",
    "\n",
    "children = ['Adam', 'Eve', 'Sarah']\n",
    "\n",
    "for child in children:\n",
    "    datapath = '/Users/ethan/Desktop/'\n",
    "    file =  child + '.csv'\n",
    "    \n",
    "    \n",
    "    cd(datapath)\n",
    "    \n",
    "    print(file)\n",
    "    df = pd.read_csv(file, sep=',')\n",
    "    print(df.head(n=5))\n",
    "    print(' ')"
   ]
  },
  {
   "cell_type": "markdown",
   "metadata": {},
   "source": [
    "## Extra bonus question for those that truly have nothing else to do\n",
    "\n",
    "Ok, I admit, this turned out to be even more challenging than I had intended. While the previous problems could be solved with the tools you have already learned, I spent the better part of an afternoon trying to solve this problem without introducing any new modules, and I had to give up. Still, having asked the question, I had to give a solution, so below is my solution to this problem. It introduces two new modules: \"csv\" and \"itertools\". This really goes beyond what I had intended to get to in this course, but here it is if you are interested. If you don't care, that is fine!"
   ]
  },
  {
   "cell_type": "markdown",
   "metadata": {},
   "source": [
    "### First step: make separate files for each of the children\n",
    "\n",
    "I don't think this is necessary, but it made it easier for me to deal with the data. It can often be useful to offload data to text files that mark intermediate steps in a longer operation."
   ]
  },
  {
   "cell_type": "code",
   "execution_count": 164,
   "metadata": {
    "collapsed": false
   },
   "outputs": [
    {
     "name": "stdout",
     "output_type": "stream",
     "text": [
      "Done with Adam\n",
      "Done with Eve\n",
      "Done with Sarah\n",
      "All done!\n"
     ]
    }
   ],
   "source": [
    "import glob\n",
    "from os import chdir as cd\n",
    "from collections import Counter\n",
    "from string import punctuation as pnc\n",
    "\n",
    "children = ['Adam', 'Eve', 'Sarah']\n",
    "\n",
    "for child in children:\n",
    "\n",
    "    pathout = '/Users/ethan/Desktop/' + child + '_I-frequency' + '.csv'\n",
    "    datapath = '/Users/ethan/Desktop/Brown/' + child\n",
    "\n",
    "    keywords = ['I']\n",
    "    header = child + '\\n'\n",
    "\n",
    "\n",
    "    with open(pathout, 'a+') as nf:\n",
    "        nf.write(header)\n",
    "\n",
    "    cd(datapath)\n",
    "\n",
    "    removelist = ['\\t', '\\r']\n",
    "\n",
    "    punct = set(pnc)\n",
    "\n",
    "    for file in glob.glob('*.cha'):\n",
    "        with open(file,'r') as f:\n",
    "            text = f.read()\n",
    "\n",
    "        with open(file,'r') as f:\n",
    "            text = f.read()\n",
    "            for item in removelist:\n",
    "                text = text.replace(item, '')\n",
    "            text = text.split('\\n')\n",
    "\n",
    "            for item in text:\n",
    "                if '|CHI|' in item:\n",
    "                    a = item\n",
    "\n",
    "            a = a.split('|')\n",
    "            age = a[3]\n",
    "\n",
    "            turns = []\n",
    "            for line in text:\n",
    "                if line.startswith('*CHI'):\n",
    "                    line = line.replace('*CHI:', '')\n",
    "                    line = ''.join(x for x in line if x not in punct) \n",
    "                    line = line.strip()\n",
    "                    turns.append(line)\n",
    "\n",
    "            all = ' '.join(turns)\n",
    "            words = all.split()\n",
    "            types = set(words)\n",
    "            tokens = len(words)\n",
    "\n",
    "\n",
    "            freq = Counter(words).most_common(len(words))\n",
    "            d = dict(freq)\n",
    "\n",
    "            output = []\n",
    "\n",
    "            for word in keywords:\n",
    "                if word in types:\n",
    "                    value = d.get(word)\n",
    "                    output.append(str(value/tokens))\n",
    "                else:\n",
    "                    output.append('0')\n",
    "            newline = ','.join(output) + '\\n'\n",
    "            with open(pathout, 'a+') as nf:\n",
    "                nf.write(newline)\n",
    "        #print('Done with ' + file)\n",
    "    print('Done with ' + child)\n",
    "print('All done!')"
   ]
  },
  {
   "cell_type": "markdown",
   "metadata": {},
   "source": [
    "### Next check that the data look ok"
   ]
  },
  {
   "cell_type": "code",
   "execution_count": 165,
   "metadata": {
    "collapsed": false
   },
   "outputs": [
    {
     "name": "stdout",
     "output_type": "stream",
     "text": [
      "Adam_I-frequency.csv\n",
      "       Adam\n",
      "0  0.010623\n",
      "1  0.005496\n",
      "2  0.004225\n",
      "3  0.005736\n",
      "4  0.013692\n",
      " \n",
      "Eve_I-frequency.csv\n",
      "        Eve\n",
      "0  0.003788\n",
      "1  0.006296\n",
      "2  0.011438\n",
      "3  0.010595\n",
      "4  0.002782\n",
      " \n",
      "Sarah_I-frequency.csv\n",
      "      Sarah\n",
      "0  0.021097\n",
      "1  0.034768\n",
      "2  0.005926\n",
      "3  0.031746\n",
      "4  0.038835\n",
      " \n"
     ]
    }
   ],
   "source": [
    "from os import chdir as cd\n",
    "import pandas as pd\n",
    "\n",
    "children = ['Adam', 'Eve', 'Sarah']\n",
    "\n",
    "for child in children:\n",
    "    datapath = '/Users/ethan/Desktop/'\n",
    "    file =  child + '_I-frequency.csv'\n",
    "    \n",
    "    \n",
    "    cd(datapath)\n",
    "    \n",
    "    print(file)\n",
    "    df = pd.read_csv(file, sep=',')\n",
    "    print(df.head(n=5))\n",
    "    print(' ')"
   ]
  },
  {
   "cell_type": "markdown",
   "metadata": {},
   "source": [
    "### Now the tricky part\n",
    "\n",
    "The tricky part with this problem was to get the data formatted so that each kid had his/her own column in the final csv file. Since the csv files have to be written one row at a time, we somehow need to take e.g. Adam's first data point, then Eve's first data point, then Sarah's first data point, and then move to the next line and start again with Adam's second data point, and so on. It would be possible to write a loop that would do this, but the even trickier part is that the children don't have the same number of transcripts. Adam has 55, Sarah has 139, and Eve has only 20. The loop would work up until 20, when we would run out of transcripts for Eve.\n",
    "\n",
    "To solve this, I used a module called itertools which has a function called zip_longest.\n",
    "\n",
    "First, I will show how zipping works. Remember tuples, from above? Well, you can take two lists of equal length, and \"zip\" them together, to make a series of tuples. We can't see the contents of the zipped structure directly, but we can if we turn it into a list."
   ]
  },
  {
   "cell_type": "code",
   "execution_count": 195,
   "metadata": {
    "collapsed": false
   },
   "outputs": [
    {
     "name": "stdout",
     "output_type": "stream",
     "text": [
      "\"c\" is now a \"zip object\":\n",
      "<zip object at 0x104e9a0c8>\n",
      "\n",
      "The zip object contains tuples made from the original lists:\n",
      "[('apples', 3), ('peaches', 5), ('plums', 7)]\n"
     ]
    }
   ],
   "source": [
    "a = ['apples', 'peaches', 'plums']\n",
    "b = [3, 5, 7]\n",
    "c = zip(a,b)\n",
    "d = list(c)\n",
    "\n",
    "print('\"c\" is now a \"zip object\":')\n",
    "print(c); print('')\n",
    "\n",
    "print('The zip object contains tuples made from the original lists:')\n",
    "print(d)"
   ]
  },
  {
   "cell_type": "code",
   "execution_count": 183,
   "metadata": {
    "collapsed": false
   },
   "outputs": [
    {
     "name": "stdout",
     "output_type": "stream",
     "text": [
      "('apples', 3, 'Brugsen', 'Viby')\n",
      "('peaches', 5, 'Kvickly', 'Højbjerg')\n",
      "('plums', 7, 'Fakta', 'Tilst')\n"
     ]
    }
   ],
   "source": [
    "# We can also zip more than one list together\n",
    "a = ['apples', 'peaches', 'plums']\n",
    "b = [3, 5, 7]\n",
    "c = ['Brugsen', 'Kvickly', 'Fakta']\n",
    "d = ['Viby', 'Højbjerg', 'Tilst']\n",
    "e = zip(a,b,c,d)\n",
    "f = list(e)\n",
    "\n",
    "for i in f:\n",
    "    print(i)"
   ]
  },
  {
   "cell_type": "markdown",
   "metadata": {},
   "source": [
    "### zipping uneven lists\n",
    "\n",
    "This is great! We could use this to zip the lists of Adam's, Eve's, and Sarah's word frequencies together, and then export that 1 row at a time to a csv file. There is a problem, though. \"zip\" stops zipping when it reaches the end of the shortest list. So we would still only get 20 data points for each child, since Eve only has 20 transcripts.\n",
    "\n",
    "Luckily, there is a module for that too!\n",
    "\n",
    "itertools has a function called zip_longest that lets us zip lists of uneven lengths together. When it runs out of items in a list, it just add whatever filler character we specify, or adds nothing.\n",
    "\n",
    "Finally, we need a way to export all this to a csv file. The csv module lets us go through the rows in a zip object and write this to csv format, like so:"
   ]
  },
  {
   "cell_type": "markdown",
   "metadata": {},
   "source": [
    "### zip the children's data, and export to csv"
   ]
  },
  {
   "cell_type": "code",
   "execution_count": 192,
   "metadata": {
    "collapsed": true
   },
   "outputs": [],
   "source": [
    "import csv\n",
    "import glob\n",
    "import itertools\n",
    "from os import chdir as cd\n",
    "\n",
    "datapath = '/Users/ethan/Desktop/'\n",
    "children = ['Adam', 'Eve', 'Sarah']\n",
    "fileout = datapath + '3kids.csv'\n",
    "\n",
    "header = ','.join(children) + '\\n'\n",
    "\n",
    "cd(datapath)\n",
    "\n",
    "with open(fileout, 'a+') as nf:\n",
    "    nf.write(header)\n",
    "\n",
    "\n",
    "output = []\n",
    "for child in children:\n",
    "    filein = child + '_I-frequency.csv'\n",
    "\n",
    "\n",
    "    \n",
    "    with open(filein,'r') as f:\n",
    "        text = f.read()\n",
    "        text = text.split()\n",
    "        output.append(text)\n",
    "\n",
    "\n",
    "        \n",
    "export_data = itertools.zip_longest(*output, fillvalue = '')\n",
    "\n",
    "\n",
    "with open(fileout, 'w') as f:\n",
    "    writer = csv.writer(f)\n",
    "\n",
    "    for val in itertools.zip_longest(*output, fillvalue = ''):\n",
    "        writer.writerow(val)\n",
    "\n",
    "\n",
    "\n"
   ]
  },
  {
   "cell_type": "markdown",
   "metadata": {},
   "source": [
    "### check the output to make sure it looks ok"
   ]
  },
  {
   "cell_type": "code",
   "execution_count": 194,
   "metadata": {
    "collapsed": false
   },
   "outputs": [
    {
     "name": "stdout",
     "output_type": "stream",
     "text": [
      "        Adam       Eve     Sarah\n",
      "0   0.010623  0.003788  0.021097\n",
      "1   0.005496  0.006296  0.034768\n",
      "2   0.004225  0.011438  0.005926\n",
      "3   0.005736  0.010595  0.031746\n",
      "4   0.013692  0.002782  0.038835\n",
      "5   0.009581  0.007653  0.019481\n",
      "6   0.015006  0.013818  0.013011\n",
      "7   0.027169  0.021148  0.042838\n",
      "8   0.010478  0.025580  0.033254\n",
      "9   0.013559  0.029477  0.019231\n",
      "10  0.006339  0.040390  0.032733\n",
      "11  0.013272  0.043739  0.083799\n",
      "12  0.000719  0.044964  0.026769\n",
      "13  0.004614  0.037059  0.050633\n",
      "14  0.032543  0.056383  0.045226\n",
      "15  0.031303  0.042370  0.021201\n",
      "16  0.031594  0.045080  0.013631\n",
      "17  0.032430  0.050813  0.053879\n",
      "18  0.042325  0.047951  0.042328\n",
      "19  0.042387  0.024088  0.045175\n",
      "20  0.041896       NaN  0.057841\n",
      "21  0.048424       NaN  0.021407\n",
      "22  0.058340       NaN  0.026690\n",
      "23  0.053283       NaN  0.044604\n",
      "24  0.044379       NaN  0.026562\n"
     ]
    }
   ],
   "source": [
    "from os import chdir as cd\n",
    "import pandas as pd\n",
    "\n",
    "\n",
    "\n",
    "\n",
    "datapath = '/Users/ethan/Desktop/'\n",
    "file =  '3kids.csv'\n",
    "    \n",
    "cd(datapath)\n",
    "df = pd.read_csv(file, sep=',')\n",
    "print(df.head(n=25))\n"
   ]
  },
  {
   "cell_type": "markdown",
   "metadata": {},
   "source": [
    "### Success!\n",
    "\n",
    "A csv file, with all three children, one child per column. The empty \"cells\" where e.g. Eve doesn't have any data are represented by pandas as \"NaN\": \"Not a number\"."
   ]
  },
  {
   "cell_type": "code",
   "execution_count": null,
   "metadata": {
    "collapsed": true
   },
   "outputs": [],
   "source": []
  }
 ],
 "metadata": {
  "anaconda-cloud": {},
  "kernelspec": {
   "display_name": "Python [conda root]",
   "language": "python",
   "name": "conda-root-py"
  },
  "language_info": {
   "codemirror_mode": {
    "name": "ipython",
    "version": 3
   },
   "file_extension": ".py",
   "mimetype": "text/x-python",
   "name": "python",
   "nbconvert_exporter": "python",
   "pygments_lexer": "ipython3",
   "version": "3.5.2"
  }
 },
 "nbformat": 4,
 "nbformat_minor": 1
}
