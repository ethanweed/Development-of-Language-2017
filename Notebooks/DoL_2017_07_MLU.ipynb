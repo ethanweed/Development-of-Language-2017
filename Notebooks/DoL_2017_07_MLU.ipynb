{
 "cells": [
  {
   "cell_type": "markdown",
   "metadata": {},
   "source": [
    "# Extracting MLU\n",
    "\n",
    "MLU is one of the most important measurements of child language development, as it combines the amount of speech per utterance (which could otherwise be measured by number of tokens) with a measure of syntactic compexity (morphemes). Extracting MLU from the CHILDES transcripts does have its challenges. The main issue is what to count. Root morphemes are associated with a vertical pipe character \"|\" in the CHAT transcription convention, so counting the number of |'s per %mor line will get us the number of root morphemes. We then need a list of all the bound morphemes that we can expect in the transcription. Some of these seem to vary from transcript to transcript, so we need to be somewhat familiar with our data. Finally, we may be interested e.g. in some particular part of speech, say nouns or prepositions, and we will need to adapt our scripts to catch the items of interest for our research. The script below counts root morphemes plus a standard list of bound morphemes. Not all of these will be relevant for the Brown transcripts."
   ]
  },
  {
   "cell_type": "code",
   "execution_count": 1,
   "metadata": {},
   "outputs": [
    {
     "name": "stdout",
     "output_type": "stream",
     "text": [
      "2.166403785488959\n"
     ]
    }
   ],
   "source": [
    "from os import chdir as cd\n",
    "\n",
    "child = 'Adam'\n",
    "pathin = '/Users/ethan/Desktop/Brown/'+child\n",
    "pathout = '/Users/ethan/Desktop'\n",
    "\n",
    "cd(pathin)\n",
    "file = child + '01.cha'\n",
    "\n",
    "removelist = ['\\t', '\\r']\n",
    "\n",
    "with open(file,'r') as f:\n",
    "    text = f.read()\n",
    "    for item in removelist:\n",
    "        text = text.replace(item, '')\n",
    "    text = text.split('\\n')\n",
    "       \n",
    "    # make a list with only the %mor lines from the transcript\n",
    "    # first find the lines with the child's speech, then jump to the following line (s+1)\n",
    "    # collect all these %mor lines in the variable utt\n",
    "    utt = []\n",
    "    for s, val in enumerate(text):\n",
    "        if val.startswith('*CHI'):\n",
    "            m = str(text[s+1])\n",
    "            m = m[5:]\n",
    "            utt.append(m)\n",
    "    \n",
    "    # set up empty lists to collect the morpheme counts.\n",
    "    # in the current version of this script, only \"morphs\", the one collects all the morphemes,\n",
    "    # regardless of type is used. But that could be modified, e.g. if we wanted to track the number\n",
    "    # of possesives (mPOSS) or plural nouns (mPL) specifically.\n",
    "    morphs = []\n",
    "    mPL = []\n",
    "    mPOSS = []\n",
    "    mPAST = []\n",
    "    mPROG = []\n",
    "    mPERF = []\n",
    "    mTHIRDSING = []\n",
    "    mCOMP1 = []\n",
    "    mCOMP2 = []\n",
    "    mSUPER1 = []\n",
    "    mSUPER2 = []\n",
    "    mADVR1 = []\n",
    "    mADVR2 = []\n",
    "    mAGT = []\n",
    "    \n",
    "    for s in utt:\n",
    "        base = s.count('|')\n",
    "        PL = s.count('-PL')\n",
    "        POSS = s.count('POSS')\n",
    "        PAST = s.count('&PAST')\n",
    "        PROG = s.count('-PROG')\n",
    "        PERF = s.count('&PERF')\n",
    "        THIRDSING = s.count('&3S')\n",
    "        COMP1 = s.count('-CP')\n",
    "        COMP2 = s.count('&CP')\n",
    "        SUPER1 = s.count('-SP')\n",
    "        SUPER2 = s.count('&SP')\n",
    "        ADVR1 = s.count('-ADVR')\n",
    "        ADVR2 = s.count('LY')\n",
    "        AGT = s.count('-AGT')\n",
    "        \n",
    "\n",
    "        m = base + PL + POSS + PAST + PROG + PERF + THIRDSING + COMP1 + COMP2 + SUPER1 + SUPER2 + ADVR1 + ADVR2 + AGT\n",
    "        morphs.append(m)\n",
    "        mPL.append(PL)\n",
    "        mPOSS.append(POSS)\n",
    "        mPAST.append(PAST)\n",
    "        mPROG.append(PROG)\n",
    "        mPERF.append(PERF)\n",
    "        mTHIRDSING.append(THIRDSING)\n",
    "        mCOMP1.append(COMP1)\n",
    "        mCOMP2.append(COMP2)\n",
    "        mSUPER1.append(SUPER1)\n",
    "        mSUPER2.append(SUPER2)\n",
    "        mADVR1.append(ADVR1)\n",
    "        mADVR2.append(ADVR2)\n",
    "        mAGT.append(AGT)\n",
    "\n",
    "\n",
    "    \n",
    "av = sum(morphs)/len(morphs)\n",
    "print(av)"
   ]
  }
 ],
 "metadata": {
  "anaconda-cloud": {},
  "kernelspec": {
   "display_name": "Python 3",
   "language": "python",
   "name": "python3"
  },
  "language_info": {
   "codemirror_mode": {
    "name": "ipython",
    "version": 3
   },
   "file_extension": ".py",
   "mimetype": "text/x-python",
   "name": "python",
   "nbconvert_exporter": "python",
   "pygments_lexer": "ipython3",
   "version": "3.6.6"
  }
 },
 "nbformat": 4,
 "nbformat_minor": 1
}
