{
 "cells": [
  {
   "cell_type": "code",
   "execution_count": null,
   "metadata": {
    "collapsed": true
   },
   "outputs": [],
   "source": [
    "% matplotlib inline\n",
    "import os\n",
    "import glob\n",
    "import string\n",
    "import numpy as np\n",
    "import matplotlib.pyplot as plt"
   ]
  },
  {
   "cell_type": "code",
   "execution_count": null,
   "metadata": {
    "collapsed": false
   },
   "outputs": [],
   "source": [
    "pathin = '/Users/ethan/Documents/Scripts/Teaching/Development-of-Language/DoL_2017/Data/short-stories'\n",
    "\n",
    "os.chdir(pathin)\n",
    "\n",
    "punct = set(string.punctuation)\n",
    "\n",
    "titles = []\n",
    "ttratio = []\n",
    "\n",
    "for file in glob.glob('*.txt'):\n",
    "    with open(file,'r') as f:\n",
    "        \n",
    "        text = f.read()\n",
    "        text = text.lower()\n",
    "        text = ''.join(x for x in text if x not in punct)\n",
    "        text = text.split(' ')\n",
    "        \n",
    "        \n",
    "        t = file[:-4]\n",
    "        titles.append(t)\n",
    "        \n",
    "        ttr = (len(set(text))/len(text))\n",
    "        ttratio.append(ttr)\n",
    "        "
   ]
  },
  {
   "cell_type": "code",
   "execution_count": null,
   "metadata": {
    "collapsed": false
   },
   "outputs": [],
   "source": [
    "xpos = range(len(titles))\n",
    "plt.bar(xpos, ttratio, align = 'center')\n",
    "plt.xticks(xpos, titles, rotation = 80)\n",
    "plt.show"
   ]
  },
  {
   "cell_type": "code",
   "execution_count": null,
   "metadata": {
    "collapsed": true
   },
   "outputs": [],
   "source": []
  }
 ],
 "metadata": {
  "kernelspec": {
   "display_name": "Python [conda root]",
   "language": "python",
   "name": "conda-root-py"
  },
  "language_info": {
   "codemirror_mode": {
    "name": "ipython",
    "version": 3
   },
   "file_extension": ".py",
   "mimetype": "text/x-python",
   "name": "python",
   "nbconvert_exporter": "python",
   "pygments_lexer": "ipython3",
   "version": "3.5.2"
  }
 },
 "nbformat": 4,
 "nbformat_minor": 1
}
