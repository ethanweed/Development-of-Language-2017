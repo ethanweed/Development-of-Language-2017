{
 "cells": [
  {
   "cell_type": "code",
   "execution_count": 5,
   "metadata": {
    "collapsed": false
   },
   "outputs": [],
   "source": [
    "# import modules\n",
    "import glob\n",
    "from os import chdir as cd\n",
    "from collections import Counter\n",
    "from string import punctuation as pnc\n",
    "\n",
    "# define paths\n",
    "file = 'Adam01.cha'\n",
    "datapath = '/Users/ethan/Desktop/Brown/Adam/'\n",
    "\n",
    "def CHI (file):\n",
    "    with open(file,'r') as f:\n",
    "        text = f.read()\n",
    "\n",
    "        # remove the removelist items from the text\n",
    "        for item in removelist:\n",
    "            text = text.replace(item, '')\n",
    "        text = text.split('\\n')\n",
    "\n",
    "        # find only the things the child says\n",
    "        turns = []\n",
    "        for line in text:\n",
    "            if line.startswith('*CHI'):\n",
    "                line = line.replace('*CHI:', '')\n",
    "                line = ''.join(x for x in line if x not in punct) \n",
    "                line = line.strip()\n",
    "                turns.append(line)\n",
    "\n",
    "        # get the number of types and tokens\n",
    "        allturns = ' '.join(turns)\n",
    "        return(allturns)"
   ]
  },
  {
   "cell_type": "code",
   "execution_count": 6,
   "metadata": {
    "collapsed": false
   },
   "outputs": [],
   "source": [
    "a = CHI(file)"
   ]
  },
  {
   "cell_type": "code",
   "execution_count": 7,
   "metadata": {
    "collapsed": false
   },
   "outputs": [
    {
     "name": "stdout",
     "output_type": "stream",
     "text": [
      "play checkers big drum big drum big drum big drum horse who that two check rig horn play checkers yep big horn alright look tv part part part part part get over  Mommy nickel nickel nickel nickel shadow shadow shadow shadow yeah  shadow  yeah shadow  funny put dirt up put dirt up put dirt up sit dere  there sit dere  there sit dere  there read Shadow read Shadow read Shadow Adam checker checker horn horse yeah I got horn look like it  hm do like it my Shadow my Shadow  Mommy read Shadow who that horse horse go  Mommy horse Mott apple juice Mott apple juice Mott apple juice no water  Mommy Mott apple juice who that who that who that who that  Daddy whos  who that two  three big horn take two who that put record put record Adam horn Adam horn  hm hm my pencil  my Daddy go where go where go see Daddy car Daddy Daddy Daddy Daddy mine mine mine mine circus sit in  Adam chair there boots dog wash hand I wash hand who that who that  Daddy who that who that Daddy Cathy ow there who is  that horn go fall no no fall  no no fall two bunnyrabbit there  bunnyrabbit come on  bunnyrabbit hit ball a bunnyrabbit walk hop hop hop sweep broom yep I get that brush  that brush hi  BunnyRabbit my screwdriver hi  bunnyrabbit Adam Smith get light get light get light get light get light yep look look look hear tractor see truck  Mommy see truck no I see truck there go one see a  truck see truck  Mommy see truck truck put truck  Mommy put truck window look  tow truck come here yeah busy bulldozer yeah there go another one tow truck Bozo Bozo Bozo  yeah  Bozo remember Bozo Bozo Bozo my I  like  see that alright see that keep dat  that keep dat  that keep dat  that Bozo hat hat Adam hat Adam allgone who that what that  Daddy who that HumptyzDumpty hit ball hit the  ball shoe shoe shoe tank truck change diaper I change diaper okay yep nightnight okay kitty xxx okay kittowp oh Adam fall toy Adam fall toy Adam fall  toy oh Adam belt how are you  belt yep open open please paper yep pencil pencil please paper paper find my bunnyrabbit bunnyrabbit bunnyrabbit go  Mommy where  bunnyrabbit I may give some open up open open who that beat drum I beat drum Ill beat drum oh fall kitty kitty go home ride that ride that  my my my my my okay kitty okay okay okay kitty  okay kitty okay who that bear dere  there right in here shake hands fine fine okay bear nightnight bear okay ball game pencil please please allgone no my thankyou no my  my ball player my who that  Daddy giraffe mosquito play mine mosquito boot hi  boot get kitty okay kitty okay okay kitty okay I  not  fall fall dat  that Perro my no xxx tv not go tv green jeans no my part trailer part Adam xxx trailer part two truck tow truck nab nab nab no not Adam xxx nightnight sit down sit down hat Adam  Adams hat yep poor Perro no no no Mommy come no  Mommy  no not  a  chair floor no Mommy stand up Adam Adam funny chair xxx chair about xxx pony another pony Mommy Mommy  may please may kitty  fix make mosquito fine book why not thats  not  Daddy find downstairs downstairs in there light in there look look look my xxx get Adam bike Adam bike my xxx pillow Adam pillow pony my pillow my jump put light  Mommy two book  Mommy read book boy book boy pictures in there Shadow read Shadow  Mommy read Shadow Shadow who that lollipop glue piggie squeak wee wee way home bath Adam sand hand I read that my Shadow Shadow my Shadow my Shadow my Shadow Shadow go get it go get it bear tractor tractor go floor go floor Daddy move rock move power shovel derrick yep no tape recorder bunnyrabbit okay read bunnyrabbit moocow moocow tractor moocow truck write Adam write  hm I write I can write paper write write the  paper pony mosquito get you I get you poor Adam pony Bozo  Bozo who that who that who that who that who that who that meow meow meow meow meow meow who that who that who that kitty kitty pretty who that write that write that write pencil get pencil please Daddy Smith my xxx mine who that my my okay alright  alright pencil paper write  right paper pencil write  alright yeah I write his write who that who that who that who that who that who that jump my pillow my come on hi bump bunnyrabbit okay screwdriver okay busy bulldozer  busy bulldozer busy lie  down  bulldozer record okay put dirt up  put dirt up  put dirt up put dirt up busy bulldozer yeah  you busy bulldozer yep busy bulldozer  busy bulldozer write paper lollipop my my  like that beep beep screwdriver like it  screwdriver like it I like a bulldozer yep  I like pick dirt up firetruck paper write my paper funny expression where go  Mommy go  Mommy must go Catherine  babysitter Catherine a  dinner Adam a  home too Catherine too Cliffy too Cliffy Cliffy  a  Bozo Bozo see Bozo Bozo Joshua home get Joshua no no no no no must go go back no no no no no no no my screwdriver my screwdriver go  to  work give me screwdriver in nere  here no put in  it box  Mommy put box my see that Adam see that Adam put it  box no no go back rubber band my play bulldozer  hm my Adam bulldozer give me tractor  okay ball  ball  ball  ball  ball hit ball get it get it hit it get it hit ball I like hit I like hit ball my hit  ball go get Mommy go get it go get it hold hand  Mommy hold hand Ricky tie dat  that Ricky tie dat  that tie dat  that go block go block get it two three block xxx block in nere  here two light two green two green  yeah  yeah two green two for  green look two green  yeah two get xxx green yes  sir Newmi  name of friend Newmi go Newmi up on there Newmi go man look man man man man man look man Mommy now yeah  a  man  yeah name man car mosquito look car mosquito mailman man pillow dirty tomato  tomato  tomato  tomato  tomato to  tomato Newmi book tomato Newmi bulldozer who that Mary Mary go Mary go  Mommy where Mary go yeah Mary gone ball  see ball hit ball ball get you  ball get you get you  ball get ball  get get ball I go get it Daddy suitcase go get it Daddy brief case yeah kitty kitty okay ride bulldozer kitty okay get in kitty kitty  get in get in bulldozer okay kitty okay like it  kitty okay okay  kitty  okay okay  kitty  okay lie down my get  Mommy Adam book no like Adam bookshelf Adam book no pictures in nere  here look look look look look  Mommy big house go home byebye bye church where Daddy go move it move fire truck move fire truck move road grader pick Adam up put fire okay doggie okay doggie find doggie give doggie paper give doggie paper give paper pencil okay doggie pencil doggie okay okay night move record move record move record more record record record record record  Mommy record record record record player record player yes  record player horn horn playing horn hear horn Panda home go mhm Kepic okay  Kepic  okay okay  Kepic kitty hi kitty more I like a hammer hammer Mommy  hammer see in there bulldozer bulldozer bulldozer bulldozer bulldozer bulldozer bulldozer  Mommy kitty hi kitty like it kitty okay  walk Adam walk truck okay okay bear more pony pony Mommy Mommy get it ladder Mommy get it my ladder ladder fire truck Mommy put on no no  Adam do it okay mommy put ladder put ladder there no put  put belong watch going Adam paper read you paper mine no mine paper no  my paper mine mine and yours mine goodbye byebye he go out go go go going go get tractor see truck see bulldozer please no Mott apple juice candy I sit chair Daddy chair no  no no  Daddy chair home soon no  no sit water minestrone I sleepy tired my tea Daddy tea Mommy tea Mommy tea  yeah more tea  Mommy tea my tea wipe hand dirty my hands my chair no  no  my chair sleepy tired Mommy Mommy Mommy Tuffy  name of boat boat get Tuffy Tuffy cold rainy rainy rainy a  cold no sunny outside sun sun yeah  Adam see sun xxx my find paper man right dere  there right dere  there man who dat  that water who dat  that get out excuse me  Perro  family dog hot  hm yeah  hot  yeah go get  go get it  Mommy go get it go get put water xxx in yeah put water  in put water drive Adam drive  drive record yeah tape recorder funny tape recorder funny sorry tape recorder sorry car who dat  that who dat  that who dat  that who dat  that who dat  that who dat  that eat dat  that eat dat  that get xxx friend who dat  that tootooo tootooo tootooo Tuffy Tuffy boat my Tuffy my Tuffy my pencil Adam pencil my  my my  my paper paper here here doggie  here write paper  hm doggie write paper okay read that okay okay next you  Mommy read that  the dogs paper okay okay who dat  that kitty kitty meow climb climb climb climb move away climb Adam  Mommy climb Adam climb no  big kitty no  a big kitty Adam write the paper no  write on there Daddy go  Mommy Daddy go Daddy went to school xxx car broke car broke car broke who dat  that two two Adam two Cromer Adam two Cromer Adam Cromer no no no no xxx must Catherine tonight Adam stay tonight  tonight Howe stay tonight Howe fire find  fire back there no fire back there Adams pencil kitty kitty yeah Mommy  Daddy Mommy Daddy Adam right there yeah meow meow meow meow meow Daddy Daddy circle circle there write  circle circle right door door bumble bee bumble bee xxx find bumble bee my panda nightnight nightnight okay Panda go nightnight Panda night nightnight nightnight careful gonna fall over over over fall over over record Daddy Adam  Adam Smith write that you write that you do that you do that you do that ball here  Mommy hit ball get find tractor who dat  that who dat  that yeah bumble bee find  the bumble bee find it  hm no  doggie  not there okay okay next next Mommy camping trip do  you  see camping hm camping trip camping camping camping right there camping cap cap cap camping that Kepic okay  doggie okay camping who dat  that Don Don Don Duck Don Don Don Duck go  Mommy DonaldDuck part part part  Mommy part part part part  of toy part head head go  Mommy who dat  that who dat  that who dat  that who dat  that who dat  that who dat  that who dat  that tractor put tractor Adam bike Adam tractor tractor tractor go tractor go right dere  there go right dere  there put trailer up put trailer up Im xxx  trailer up look trailer trailer look  a trailer trailer pull Adam bike pull roadgrader pull roadgrader hm pull tractor  Mommy xxx pull tractor xxx pull tractor take head off  toy xxx take off off head turn xxx off head turn xxx man head Tuffy boat Tuffy Tuffy Tuffy come here  Tuffy who dat  that comb hair my  my  my comb hair my comb mhm pocket in nere  here hm who dat  that my comb hair  mine mine my my my my my who dat  that goat goat  yeah who dat  that meow meow meow meow who dat  that who dat  that who dat  that who dat  that who dat  that who dat  that who dat  that who dat  that who dat  that who dat  that who dat  that who dat  that who dat  that who dat  that who dat  that weeweeo home yeah who dat  that who dat  that who dat  that who dat  that  Mommy who dat  that who dat  that who dat  that who dat  that see  Mommy who dat  that Bozo Bozo  yeah poor bumble bee okay bumble bee okay bumble bee ladder ladder ladder who dat  that read Kepic good night good night circus where circus find read dat  that  Mommy read Dr circus read Dr circus read dat  that circus circus acrobat who dat  that  Mommy toomanc tatoo man find too tatoo man tatoo man who dat  that tatoo toomanc go  Mommy toomanc tatoo toomanc go who dat  that read dat  that doctor dere  there tatoo man tatoo man right dere  there too tatoo man funny toomanc  funny to tatoo man who dat  that who dat  that tatoo tatoo tatoo man who dat  that big shoe who dat  that who dat  that who dat  that bit doggie bite  bite  picture of dog biting clown bite  bite doggie bite bite okay kitty find kitty Judy Buzz Judy Buzz stay night hello Judy Mommy go  Mommy Mommy go Mommy Mommy Mommy my kitty no Adam sit down okay  Mommy sit down nightnight  kitty Adam next Judy Buzz Judy Buzz Judy Buzz Judy Buzz Judy Buzz Judy Buzz Judy Buzz Judy Buzz chew apple mouth apple in  Adam mouth tongue Humpty Dumpty paper who dat  that who dat  that who dat  that who dat  that I  want ta  box yep  I want paper Bozo see Bozo paper kitty open kitty open the paper paper  hm stay dere  there okay write paper kitty write paper Urlerc  Ursula pocket book Urlerc pocket paper pencil  Mommy where paper game part game yeah  game pin pin game John John xxx my John my John John yyy write dat  that Daddy name Daddy name Daddy name Daddy name write Daddy name Daddy name Daddy name Daddy name Daddy name Daddy allgone John Buzzhart John Daddy Bozo Bozo Bozo Bozo Daddy me get John my  my Buzzart my Buzzart truck sock Daddy John Buzzart write Buzzart write paper Bozo ride dat  that xxx sit at Adam Adam Smith Adam pocket no play dat  that play dat  that play dat  that write that write that write that write that write that no Ursula no  Mommy mine no  Mommy no  Mommy  no my no more tie shoe  Mommy drink milk John Buzzhart bab John Habahart game hit ball game draw paper draw friend Baba Baba Baba Baba see Baba Baba pig weeweeo way home play weeweehomec play weeweehomec play weeweehomec no paper my  my paper pencil John my John Buzzart Bozo tv Bozo Bozo Bozo Bozo a long time get Bozo see Bozo I get Bozo sit down I sit you bulldozer write bulldozer drive bulldozer bulldozer come here come here  bunnyrabbit okay no  Mommy write Buzzart write Buzzhart cookie my pencil my bunnyrabbit bunnyrabbit rabbit rabbit rabbit rabbit David David David stay tonight remember David no  never David write dat  that write Cromer shoe Mommy write Mommy Cromer  shoe who dat  that ball ball hit hit ball who dat  that ball  who dat  that Bozo  see Bozo  Bozo  Bozo next my next want sit down give me Shadow  read Shadow read Shadow lollipop my climb climb stick  no Shadow piggie path bath rain Adam like Adam Adam swimming sand like Adam sand hand yyy like Adam cow horsie horsie horsie horse Adam horse dress shirt Shadow Shadow Shadow Shadow stay night kitty kitty kitty kitty kitty kitty fish pull wagon fish oh  funny fall fall walk copy me sycamore xxx care okay  tractor light pull ride okay  kitty pull ride gonna pull ride ride wagon put shoe on mosquito Adam bite right there no no no no go back HumptyzDumpty fine fine fine fine I fine fine kittys fine kitty fine write Daddy name Daddy name Daddy Daddy Bozo see Bozo put together  again I do  light Adam light okay  Panda pull Panda up  Mommy okay  Panda okay  kitty Panda I  put Adam shoe on Panda Adam shoe right dere  there okay  Panda okay car open open  hm open  Mommy okay ride dat  that ride dat  that ride dat  that Bozo find HumptyzDumpty Humpty Dumpty HumptyzDumpty HumptyzDumpty who dat  that who dat  that camping trip  book who dat  that who dat  that who dat  that camper  yeah who dat  that who  whos dat  that big horn yep  horn march I  like  walk yeah march go  Mommy march Catherine Catherine march  hm hold hand march Catherine Mommy xxx Mommy march Catherine Catherine stay tonight Catherine Bozo paper paper paper who dat  that green find green\n"
     ]
    }
   ],
   "source": [
    "print(a)"
   ]
  },
  {
   "cell_type": "code",
   "execution_count": null,
   "metadata": {
    "collapsed": true
   },
   "outputs": [],
   "source": []
  }
 ],
 "metadata": {
  "kernelspec": {
   "display_name": "Python [conda root]",
   "language": "python",
   "name": "conda-root-py"
  }
 },
 "nbformat": 4,
 "nbformat_minor": 1
}
