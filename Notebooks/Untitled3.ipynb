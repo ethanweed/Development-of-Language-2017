{
 "cells": [
  {
   "cell_type": "code",
   "execution_count": null,
   "metadata": {
    "collapsed": true
   },
   "outputs": [],
   "source": [
    "# import modules\n",
    "import glob\n",
    "from os import chdir as cd\n",
    "from collections import Counter\n",
    "from string import punctuation as pnc\n",
    "\n",
    "# define paths\n",
    "pathout = '/Users/ethan/Desktop/Adam_words.csv'\n",
    "datapath = '/Users/ethan/Desktop/Brown/Adam/'\n",
    "\n",
    "# make a list of the words I want to find the frequencies of\n",
    "keywords = ['the', 'that', 'those', 'these', 'them', 'de', 'dat', 'dose', 'dese', 'dem']\n",
    "\n",
    "# make the column headers and write them in the output file\n",
    "header = 'age' + ',' + ','.join(keywords) + '\\n'\n",
    "with open(pathout, 'a+') as nf:\n",
    "    nf.write(header)\n",
    "\n",
    "# move to the folder with the data\n",
    "cd(datapath)\n",
    "\n",
    "# define things we want to remove from the data\n",
    "removelist = ['\\t', '\\r']\n",
    "punct = set(pnc)\n",
    "\n",
    "# loop through all the files and do stuff\n",
    "for file in glob.glob('*.cha'):\n",
    "    with open(file,'r') as f:\n",
    "        text = f.read()\n",
    "        \n",
    "        # remove the removelist items from the text\n",
    "        for item in removelist:\n",
    "            text = text.replace(item, '')\n",
    "        text = text.split('\\n')\n",
    "        \n",
    "        # find the child's age\n",
    "        for item in text:\n",
    "            if '|CHI|' in item:\n",
    "                a = item    \n",
    "        a = a.split('|')\n",
    "        age = a[3]\n",
    "\n",
    "        # find only the things the child says\n",
    "        turns = []\n",
    "        for line in text:\n",
    "            if line.startswith('*CHI'):\n",
    "                line = line.replace('*CHI:', '')\n",
    "                line = ''.join(x for x in line if x not in punct) \n",
    "                line = line.strip()\n",
    "                turns.append(line)\n",
    "\n",
    "        # get the number of types and tokens\n",
    "        allturns = ' '.join(turns)"
   ]
  }
 ],
 "metadata": {
  "anaconda-cloud": {},
  "kernelspec": {
   "display_name": "Python [conda root]",
   "language": "python",
   "name": "conda-root-py"
  },
  "language_info": {
   "codemirror_mode": {
    "name": "ipython",
    "version": 3
   },
   "file_extension": ".py",
   "mimetype": "text/x-python",
   "name": "python",
   "nbconvert_exporter": "python",
   "pygments_lexer": "ipython3",
   "version": "3.5.2"
  }
 },
 "nbformat": 4,
 "nbformat_minor": 1
}
