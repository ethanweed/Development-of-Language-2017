{
 "cells": [
  {
   "cell_type": "markdown",
   "metadata": {},
   "source": [
    "# Doing word frequency counts\n",
    "\n",
    "A very common corpus measure is word frequency. Here we import a few custom functions to achieve this."
   ]
  },
  {
   "cell_type": "code",
   "execution_count": 1,
   "metadata": {
    "collapsed": false
   },
   "outputs": [],
   "source": [
    "import os\n",
    "import glob\n",
    "import string\n",
    "\n",
    "\n",
    "pathfunctions = '/Users/ethan/Documents/Scripts/Teaching/Development-of-Language/DoL_2017/Functions'\n",
    "pathin = '/Users/ethan/Documents/Scripts/Teaching/Development-of-Language/DoL_2017/Data/short-stories'\n",
    "\n",
    "os.chdir(pathfunctions)\n",
    "import wordfreq\n",
    "\n",
    "os.chdir(pathin)\n",
    "\n",
    "punct = set(string.punctuation)\n",
    "\n",
    "alltexts = ''\n",
    "\n",
    "for file in glob.glob('*.txt'):\n",
    "    with open(file,'r') as f:\n",
    "        \n",
    "        text = f.read()\n",
    "        text = text.lower()\n",
    "        text = ''.join(x for x in text if x not in punct)\n",
    "        alltexts += text\n",
    "\n",
    "wordlist = alltexts.split()\n",
    "\n",
    "freq = [wordlist.count(w) for w in wordlist]"
   ]
  },
  {
   "cell_type": "code",
   "execution_count": 2,
   "metadata": {
    "collapsed": false
   },
   "outputs": [],
   "source": [
    "d = wordfreq.wordListToFreqDict(wordlist)"
   ]
  },
  {
   "cell_type": "code",
   "execution_count": 3,
   "metadata": {
    "collapsed": false
   },
   "outputs": [],
   "source": [
    "sd = wordfreq.sortFreqDict(d)"
   ]
  },
  {
   "cell_type": "code",
   "execution_count": 4,
   "metadata": {
    "collapsed": false
   },
   "outputs": [
    {
     "name": "stdout",
     "output_type": "stream",
     "text": [
      "[(295, 'the'), (154, 'and'), (131, 'to'), (101, 'he'), (73, 'his'), (72, 'of'), (71, 'i'), (70, 'was'), (61, 'you'), (59, 'a')]\n"
     ]
    }
   ],
   "source": [
    "sdtop = sd[:10]\n",
    "type(sdtop)\n",
    "print(sdtop)\n",
    "f,w = zip(*sdtop)"
   ]
  },
  {
   "cell_type": "code",
   "execution_count": 5,
   "metadata": {
    "collapsed": false
   },
   "outputs": [],
   "source": [
    "%matplotlib inline\n",
    "import pylab as pl\n",
    "import numpy as np"
   ]
  },
  {
   "cell_type": "code",
   "execution_count": 6,
   "metadata": {
    "collapsed": false
   },
   "outputs": [
    {
     "data": {
      "image/png": "[encoded data removed]",
      "text/plain": [
       "<matplotlib.figure.Figure at 0x10ad85c50>"
      ]
     },
     "metadata": {},
     "output_type": "display_data"
    }
   ],
   "source": [
    "X = np.arange(len(sdtop))\n",
    "pl.bar(X, f, align='center', width=0.5)\n",
    "pl.xticks(X, w)\n",
    "ymax = 300\n",
    "pl.ylim(0, ymax)\n",
    "pl.show()"
   ]
  },
  {
   "cell_type": "markdown",
   "metadata": {},
   "source": [
    "##  Note: Zipfs law\n",
    "\n",
    "From the [Wikipedia entry] [] on Zipf's law:\n",
    "\n",
    "\"Zipf's law states that given some corpus of natural language utterances, the frequency of any word is inversely proportional to its rank in the frequency table. Thus the most frequent word will occur approximately twice as often as the second most frequent word, three times as often as the third most frequent word, etc.: the rank-frequency distribution is an inverse relation. For example, in the Brown Corpus of American English text, the word \"the\" is the most frequently occurring word, and by itself accounts for nearly 7% of all word occurrences (69,971 out of slightly over 1 million). True to Zipf's Law, the second-place word \"of\" accounts for slightly over 3.5% of words (36,411 occurrences), followed by \"and\" (28,852). Only 135 vocabulary items are needed to account for half the Brown Corpus.[4]\"\n",
    "\n",
    "[wikipedia entry]: https://en.wikipedia.org/wiki/Zipf's_law"
   ]
  },
  {
   "cell_type": "code",
   "execution_count": null,
   "metadata": {
    "collapsed": true
   },
   "outputs": [],
   "source": []
  }
 ],
 "metadata": {
  "anaconda-cloud": {},
  "kernelspec": {
   "display_name": "Python [conda root]",
   "language": "python",
   "name": "conda-root-py"
  },
  "language_info": {
   "codemirror_mode": {
    "name": "ipython",
    "version": 3
   },
   "file_extension": ".py",
   "mimetype": "text/x-python",
   "name": "python",
   "nbconvert_exporter": "python",
   "pygments_lexer": "ipython3",
   "version": "3.5.2"
  }
 },
 "nbformat": 4,
 "nbformat_minor": 1
}
