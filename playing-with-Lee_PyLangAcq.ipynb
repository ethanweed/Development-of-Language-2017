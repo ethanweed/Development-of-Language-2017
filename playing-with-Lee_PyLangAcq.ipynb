{
 "cells": [
  {
   "cell_type": "markdown",
   "metadata": {},
   "source": [
    " coding: utf-8\n",
    "\n",
    " This page contains code associated with the following technical report:\n",
    " \n",
    " Lee, Jackson L., Ross Burkholder, Gallagher B. Flinn, and Emily R. Coppess. 2016. [Working with CHAT transcripts in Python](http://www.cs.uchicago.edu/research/publications/techreports/TR-2016-02). Technical Report TR-2016-02, Department of Computer Science, University of Chicago.\n",
    " \n",
    " Questions and comments can be directed to [Jackson Lee](http://jacksonllee.com/).\n",
    " \n",
    " All code runs in Python 3.4+. [Download](tech-report-2016.py) this page as a `.py` Python script.\n",
    "\n",
    "# Importing all necessary libraries"
   ]
  },
  {
   "cell_type": "code",
   "execution_count": 2,
   "metadata": {
    "collapsed": false
   },
   "outputs": [],
   "source": [
    "\n",
    "%matplotlib inline\n",
    "\n",
    "# libraries from the Python standard library\n",
    "import os\n",
    "from collections import Counter\n",
    "\n",
    "# libraries for scientific computing and statistics\n",
    "import pandas as pd\n",
    "from scipy.stats.stats import pearsonr\n",
    "import seaborn as sns\n",
    "sns.set(color_codes=True)\n",
    "\n",
    "# libraries for linguistic research\n",
    "import pylangacq as pla\n",
    "#import pycantonese as pc"
   ]
  },
  {
   "cell_type": "markdown",
   "metadata": {
    "collapsed": true
   },
   "source": [
    "# Working with MLU"
   ]
  },
  {
   "cell_type": "code",
   "execution_count": 4,
   "metadata": {
    "collapsed": false
   },
   "outputs": [],
   "source": [
    "pathin = '/Users/ethan/Documents/Scripts/Teaching/Development-of-Language/DoL_2017/Brown/Eve'\n",
    "\n",
    "os.chdir(pathin)\n",
    "eve = pla.read_chat('*.cha')  # reading in all 20 files from eve01.cha to eve20.cha"
   ]
  },
  {
   "cell_type": "markdown",
   "metadata": {},
   "source": [
    "\n",
    "# Getting information of interest\n",
    "- filenames\n",
    "- age (in months) of Eve's in each CHAT file\n",
    "- mean length of utterance in morphemes (MLUm) of each file"
   ]
  },
  {
   "cell_type": "code",
   "execution_count": 5,
   "metadata": {
    "collapsed": true
   },
   "outputs": [],
   "source": [
    "eve_filenames = eve.filenames(sorted_by_age=True)  # absolute-path filenames sorted by age\n",
    "eve_ages = eve.age(month=True)  # dict(filename: age in months)\n",
    "eve_MLUs = eve.MLUm()  # dict(filename: MLUm)\n",
    "eve_age_MLU_pairs = [(eve_ages[fn], eve_MLUs[fn]) for fn in eve_filenames]  # list of (age, MLUm)"
   ]
  },
  {
   "cell_type": "code",
   "execution_count": 8,
   "metadata": {
    "collapsed": false
   },
   "outputs": [
    {
     "name": "stdout",
     "output_type": "stream",
     "text": [
      "[(18.0, 2.4487704918032787), (18.0, 2.265687583444593), (19.0, 2.5728813559322035), (19.0, 2.7628458498023716), (20.0, 2.8528995756718527), (21.0, 3.1734317343173433), (21.0, 3.1231060606060606), (21.0, 3.3733055265901983), (22.0, 3.817658349328215), (22.0, 3.7915904936014626), (23.0, 4.157407407407407), (23.0, 3.8635346756152127), (24.0, 3.96218487394958), (24.0, 4.239130434782608), (25.0, 4.4502762430939224), (25.0, 4.421216848673947), (26.0, 4.46570796460177), (26.0, 4.286978508217446), (27.0, 4.347626339969372), (27.0, 3.163265306122449)]\n"
     ]
    }
   ],
   "source": [
    "print(eve_age_MLU_pairs)"
   ]
  },
  {
   "cell_type": "code",
   "execution_count": 9,
   "metadata": {
    "collapsed": false
   },
   "outputs": [
    {
     "data": {
      "text/plain": [
       "(0.83779857420844395, 4.0317091669915362e-06)"
      ]
     },
     "execution_count": 9,
     "metadata": {},
     "output_type": "execute_result"
    }
   ],
   "source": [
    "pearsonr(*zip(*eve_age_MLU_pairs))  # passing (list of ages, list of MLUs) to pearsonr()"
   ]
  },
  {
   "cell_type": "code",
   "execution_count": 10,
   "metadata": {
    "collapsed": true
   },
   "outputs": [],
   "source": [
    "eve_MLU_df = pd.DataFrame({'Eve\\'s age in months': [age for age, _ in eve_age_MLU_pairs],\n",
    "                           'MLUm': [MLU for _, MLU in eve_age_MLU_pairs]})"
   ]
  },
  {
   "cell_type": "code",
   "execution_count": 11,
   "metadata": {
    "collapsed": false
   },
   "outputs": [
    {
     "data": {
      "image/png": "[encoded data removed]",
      "text/plain": [
       "<matplotlib.figure.Figure at 0x114853f28>"
      ]
     },
     "metadata": {},
     "output_type": "display_data"
    }
   ],
   "source": [
    "eve_MLU_plot = sns.regplot(x='Eve\\'s age in months', y='MLUm', data=eve_MLU_df)"
   ]
  },
  {
   "cell_type": "code",
   "execution_count": 14,
   "metadata": {
    "collapsed": false
   },
   "outputs": [],
   "source": [
    "pathin = '/Users/ethan/Documents/Scripts/Teaching/Development-of-Language/DoL_2017/'\n",
    "\n",
    "os.chdir(pathin)\n",
    "\n",
    "tim_can = pla.read_chat('YipMatthews/Can/TimCan/*.cha')\n",
    "sophie_can = pla.read_chat('YipMatthews/Can/SophieCan/*.cha')\n",
    "alicia_can = pla.read_chat('YipMatthews/Can/AliciaCan/*.cha')\n",
    "\n",
    "tim_eng = pla.read_chat('YipMatthews/Eng/TimEng/*.cha')\n",
    "sophie_eng = pla.read_chat('YipMatthews/Eng/SophieEng/*.cha')\n",
    "alicia_eng = pla.read_chat('YipMatthews/Eng/AliciaEng/*.cha')"
   ]
  },
  {
   "cell_type": "code",
   "execution_count": 15,
   "metadata": {
    "collapsed": true
   },
   "outputs": [],
   "source": [
    "def visualize_can_eng_MLUw(child_name, can_reader, eng_reader, legend=True):\n",
    "    x_label = '{}\\'s age in months'.format(child_name)\n",
    "    \n",
    "    can_filenames = can_reader.filenames(sorted_by_age=True)\n",
    "    can_ages = can_reader.age(month=True)\n",
    "    can_MLUs = can_reader.MLUw()\n",
    "    \n",
    "    eng_filenames = eng_reader.filenames(sorted_by_age=True)\n",
    "    eng_ages = eng_reader.age(month=True)\n",
    "    eng_MLUs = eng_reader.MLUw()\n",
    "    \n",
    "    df = pd.DataFrame({x_label: [can_ages[fn] for fn in can_filenames] + [eng_ages[fn] for fn in eng_filenames],\n",
    "                       'MLUw': [can_MLUs[fn] for fn in can_filenames] + [eng_MLUs[fn] for fn in eng_filenames],\n",
    "                       'Language': ['Cantonese']*len(can_reader) + ['English']*len(eng_reader)})\n",
    "    \n",
    "    MLU_plot = sns.lmplot(x=x_label, y='MLUw', hue='Language', data=df, markers=['o', 'x'],\n",
    "                          legend=legend, legend_out=False)\n",
    "    MLU_plot.set(xlim=(10, 45), ylim=(0, 4.5))\n",
    "    MLU_plot.savefig('{}-MLU.pdf'.format(child_name))"
   ]
  },
  {
   "cell_type": "code",
   "execution_count": 16,
   "metadata": {
    "collapsed": false
   },
   "outputs": [
    {
     "data": {
      "image/png": "[encoded data removed]",
      "text/plain": [
       "<matplotlib.figure.Figure at 0x11c0fc5f8>"
      ]
     },
     "metadata": {},
     "output_type": "display_data"
    }
   ],
   "source": [
    "visualize_can_eng_MLUw('Timmy', tim_can, tim_eng, legend=False)  # figure saved: Timmy-MLU.pdf"
   ]
  },
  {
   "cell_type": "code",
   "execution_count": null,
   "metadata": {
    "collapsed": true
   },
   "outputs": [],
   "source": []
  },
  {
   "cell_type": "code",
   "execution_count": 18,
   "metadata": {
    "collapsed": true
   },
   "outputs": [],
   "source": [
    "pathin = '/Users/ethan/Documents/Scripts/Teaching/Development-of-Language/DoL_2017/Brown/'\n",
    "os.chdir(pathin)\n",
    "\n",
    "eve = pla.read_chat('Eve/*.cha')\n",
    "adam = pla.read_chat('Adam/*.cha')"
   ]
  },
  {
   "cell_type": "code",
   "execution_count": 19,
   "metadata": {
    "collapsed": true
   },
   "outputs": [],
   "source": [
    "eve_filenames = eve.filenames(sorted_by_age=True)  # absolute-path filenames sorted by age\n",
    "eve_ages = eve.age(month=True)  # dict(filename: age in months)\n",
    "eve_MLUs = eve.MLUm()  # dict(filename: MLUm)\n",
    "eve_age_MLU_pairs = [(eve_ages[fn], eve_MLUs[fn]) for fn in eve_filenames]  # list of (age, MLUm)\n",
    "\n",
    "adam_filenames = adam.filenames(sorted_by_age=True)  # absolute-path filenames sorted by age\n",
    "adam_ages = adam.age(month=True)  # dict(filename: age in months)\n",
    "adam_MLUs = adam.MLUm()  # dict(filename: MLUm)\n",
    "adam_age_MLU_pairs = [(adam_ages[fn], adam_MLUs[fn]) for fn in adam_filenames]  # list of (age, MLUm)"
   ]
  },
  {
   "cell_type": "code",
   "execution_count": 20,
   "metadata": {
    "collapsed": true
   },
   "outputs": [],
   "source": [
    "eve_MLU_df = pd.DataFrame({'Eve\\'s age in months': [age for age, _ in eve_age_MLU_pairs],\n",
    "                           'MLUm': [MLU for _, MLU in eve_age_MLU_pairs]})\n",
    "adam_MLU_df = pd.DataFrame({'Adam\\'s age in months': [age for age, _ in adam_age_MLU_pairs],\n",
    "                           'MLUm': [MLU for _, MLU in adam_age_MLU_pairs]})"
   ]
  },
  {
   "cell_type": "code",
   "execution_count": 24,
   "metadata": {
    "collapsed": false
   },
   "outputs": [
    {
     "data": {
      "text/html": [
       "<div>\n",
       "<table border=\"1\" class=\"dataframe\">\n",
       "  <thead>\n",
       "    <tr style=\"text-align: right;\">\n",
       "      <th></th>\n",
       "      <th>Eve's age in months</th>\n",
       "      <th>MLUm</th>\n",
       "    </tr>\n",
       "  </thead>\n",
       "  <tbody>\n",
       "    <tr>\n",
       "      <th>0</th>\n",
       "      <td>18.0</td>\n",
       "      <td>2.448770</td>\n",
       "    </tr>\n",
       "    <tr>\n",
       "      <th>1</th>\n",
       "      <td>18.0</td>\n",
       "      <td>2.265688</td>\n",
       "    </tr>\n",
       "    <tr>\n",
       "      <th>2</th>\n",
       "      <td>19.0</td>\n",
       "      <td>2.572881</td>\n",
       "    </tr>\n",
       "  </tbody>\n",
       "</table>\n",
       "</div>"
      ],
      "text/plain": [
       "   Eve's age in months      MLUm\n",
       "0                 18.0  2.448770\n",
       "1                 18.0  2.265688\n",
       "2                 19.0  2.572881"
      ]
     },
     "execution_count": 24,
     "metadata": {},
     "output_type": "execute_result"
    }
   ],
   "source": [
    "eve_MLU_df.head(3)"
   ]
  },
  {
   "cell_type": "code",
   "execution_count": 25,
   "metadata": {
    "collapsed": false
   },
   "outputs": [
    {
     "data": {
      "text/html": [
       "<div>\n",
       "<table border=\"1\" class=\"dataframe\">\n",
       "  <thead>\n",
       "    <tr style=\"text-align: right;\">\n",
       "      <th></th>\n",
       "      <th>Adam's age in months</th>\n",
       "      <th>MLUm</th>\n",
       "    </tr>\n",
       "  </thead>\n",
       "  <tbody>\n",
       "    <tr>\n",
       "      <th>0</th>\n",
       "      <td>27.133333</td>\n",
       "      <td>3.003155</td>\n",
       "    </tr>\n",
       "    <tr>\n",
       "      <th>1</th>\n",
       "      <td>27.600000</td>\n",
       "      <td>2.997674</td>\n",
       "    </tr>\n",
       "    <tr>\n",
       "      <th>2</th>\n",
       "      <td>28.100000</td>\n",
       "      <td>3.303944</td>\n",
       "    </tr>\n",
       "  </tbody>\n",
       "</table>\n",
       "</div>"
      ],
      "text/plain": [
       "   Adam's age in months      MLUm\n",
       "0             27.133333  3.003155\n",
       "1             27.600000  2.997674\n",
       "2             28.100000  3.303944"
      ]
     },
     "execution_count": 25,
     "metadata": {},
     "output_type": "execute_result"
    }
   ],
   "source": [
    "adam_MLU_df.head(3)"
   ]
  },
  {
   "cell_type": "code",
   "execution_count": null,
   "metadata": {
    "collapsed": true
   },
   "outputs": [],
   "source": []
  }
 ],
 "metadata": {
  "anaconda-cloud": {},
  "kernelspec": {
   "display_name": "Python [swc]",
   "language": "python",
   "name": "Python [swc]"
  },
  "language_info": {
   "codemirror_mode": {
    "name": "ipython",
    "version": 3
   },
   "file_extension": ".py",
   "mimetype": "text/x-python",
   "name": "python",
   "nbconvert_exporter": "python",
   "pygments_lexer": "ipython3",
   "version": "3.5.2"
  }
 },
 "nbformat": 4,
 "nbformat_minor": 0
}
