{
 "cells": [
  {
   "cell_type": "code",
   "execution_count": null,
   "metadata": {
    "collapsed": true
   },
   "outputs": [],
   "source": [
    "# create a new text file\n",
    "a ='this is some sample text'\n",
    "\n",
    "with open ('/Put/your/path/here/', 'w') as newfile:\n",
    "    newfile.write(a)"
   ]
  },
  {
   "cell_type": "code",
   "execution_count": null,
   "metadata": {
    "collapsed": true
   },
   "outputs": [],
   "source": [
    "# template to:\n",
    "# - read in a .cha file\n",
    "# - do some cleaning\n",
    "# - save the cleaned text in a .txt file\n",
    "from os import chdir as cd\n",
    "\n",
    "input = 'path/with/your/data/here'\n",
    "pathout = 'path/to/output/your/data/to/here'\n",
    "\n",
    "cd(input)\n",
    "\n",
    "import glob\n",
    "\n",
    "for file in glob.glob('*.cha'):\n",
    "    with open(file,'r') as f:\n",
    "        #text = f.read()\n",
    "        filename = file[:-4]\n",
    "        filename = filename +'.txt'\n",
    "        \n",
    "        # clean the data\n",
    "        \n",
    "        with open (pathout + filename, 'w') as newfile:\n",
    "            newfile.write(a)"
   ]
  }
 ],
 "metadata": {
  "kernelspec": {
   "display_name": "Python [conda root]",
   "language": "python",
   "name": "conda-root-py"
  },
  "language_info": {
   "codemirror_mode": {
    "name": "ipython",
    "version": 3
   },
   "file_extension": ".py",
   "mimetype": "text/x-python",
   "name": "python",
   "nbconvert_exporter": "python",
   "pygments_lexer": "ipython3",
   "version": "3.5.2"
  }
 },
 "nbformat": 4,
 "nbformat_minor": 1
}
